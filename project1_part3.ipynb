{
 "cells": [
  {
   "cell_type": "markdown",
   "metadata": {},
   "source": [
    "**Author: Oliver Chang**\\\n",
    "**W205 Project1 San Fransisco BikeShare Data Query and Analysis**\n",
    "\n",
    "# Statement of Purpose\n",
    "You're a data scientist at Lyft Bay Wheels (https://www.lyft.com/bikes/bay-wheels), formerly known as Ford GoBike, the company running Bay Area Bikeshare.\\\n",
    "You are trying to increase ridership, and you want to offer deals through the mobile app to do so.\\\n",
    "In this project, you will need to do data exploration, cleaning or filtering dirty data, etc.\\\n",
    "Once the data is processed, you will conduct data analysis using Python and make final recommendations to the management.\n"
   ]
  },
  {
   "cell_type": "markdown",
   "metadata": {},
   "source": [
    "- What are the 5 most popular trips that you would call \"commuter trips\"?\n",
    "\n",
    "    The commuter trips can be defined as regular trips taken by the commuters to/off work. Therefore, the commuter trips exhibit the following characteristics such as regularity in time, directionality in location, and etc.\n",
    "    In this case, we found that the rush hours were from 6 to 10am and 3 to 7pm, from Monday to Friday based on trip frequency.\n",
    "    Therefore, we defined commuter trips the trips that satisfied the above criteria. \\\n",
    "    The top 5 commuter trips were:\n",
    "    \n",
    "    1.\t6632\tSan Francisco Caltrain 2 (330 Townsend)\t to   Townsend at 7th\n",
    "    2.\t6166\t2nd at Townsend\t to  Harry Bridges Plaza (Ferry Building)\n",
    "    3.\t5716\tHarry Bridges Plaza (Ferry Building)\tto  2nd at Townsend\n",
    "    4.\t5689\tEmbarcadero at Folsom\tto  San Francisco Caltrain (Townsend at 4th)\n",
    "    5.\t5512\tEmbarcadero at Sansome\tto  Steuart at Market\n",
    "    \n"
   ]
  },
  {
   "cell_type": "code",
   "execution_count": 69,
   "metadata": {},
   "outputs": [],
   "source": [
    "import pandas as pd\n",
    "import matplotlib.pyplot as plt\n",
    "import seaborn as sns\n",
    "%matplotlib inline\n"
   ]
  },
  {
   "cell_type": "markdown",
   "metadata": {},
   "source": [
    "- Investigate the frequency of trips across a week."
   ]
  },
  {
   "cell_type": "code",
   "execution_count": 65,
   "metadata": {},
   "outputs": [],
   "source": [
    "%%bigquery trips_by_dow\n",
    "\n",
    "SELECT CASE WHEN EXTRACT(DAYOFWEEK FROM start_date) = 1 THEN \"SUN\"\n",
    "            WHEN EXTRACT(DAYOFWEEK FROM start_date) = 2 THEN \"MON\"\n",
    "            WHEN EXTRACT(DAYOFWEEK FROM start_date) = 3 THEN \"TUE\"\n",
    "            WHEN EXTRACT(DAYOFWEEK FROM start_date) = 4 THEN \"WED\"\n",
    "            WHEN EXTRACT(DAYOFWEEK FROM start_date) = 5 THEN \"THR\"\n",
    "            WHEN EXTRACT(DAYOFWEEK FROM start_date) = 6 THEN \"FRI\"\n",
    "            WHEN EXTRACT(DAYOFWEEK FROM start_date) = 7 THEN \"SAT\"\n",
    "            ELSE Null END as day_of_week,      \n",
    "COUNT(trip_id) as trip_counts,\n",
    "FROM `bigquery-public-data.san_francisco.bikeshare_trips`\n",
    "GROUP BY day_of_week \n",
    "ORDER BY trip_counts\n"
   ]
  },
  {
   "cell_type": "code",
   "execution_count": 75,
   "metadata": {},
   "outputs": [
    {
     "data": {
      "image/png": "[encoded data removed]",
      "text/plain": [
       "<Figure size 432x288 with 1 Axes>"
      ]
     },
     "metadata": {
      "needs_background": "light"
     },
     "output_type": "display_data"
    }
   ],
   "source": [
    "trips_by_dow.to_csv(r'~/w205/project-1-ocychang/trips_by_dow.csv', index = False)\n",
    "df = pd.read_csv('trips_by_dow.csv')\n",
    "df.set_index(df.day_of_week, inplace=True)\n",
    "reorderlist = ['SUN','MON','TUE','WED','THR','FRI','SAT']\n",
    "df = df.reindex(reorderlist)\n",
    "plt.bar(df['day_of_week'], df['trip_counts'], align='center', alpha=0.8)\n",
    "plt.xlabel('day of week')\n",
    "plt.ylabel('trip counts')\n",
    "plt.title('Trip Frequency vs. Day of Week')\n",
    "\n",
    "plt.show()"
   ]
  },
  {
   "cell_type": "markdown",
   "metadata": {},
   "source": [
    "The results indicate that trips have higher frequency during weekdays and lower on weekends. It suggests that most of the riders may be commuters."
   ]
  },
  {
   "cell_type": "code",
   "execution_count": 72,
   "metadata": {},
   "outputs": [],
   "source": [
    "%%bigquery trips_by_hr_mon_to_fri\n",
    "SELECT COUNT(trip_id) as trip_counts, hours,  FROM\n",
    "(\n",
    "SELECT CASE WHEN EXTRACT(DAYOFWEEK FROM start_date) = 1 THEN \"SUN\"\n",
    "            WHEN EXTRACT(DAYOFWEEK FROM start_date) = 2 THEN \"MON\"\n",
    "            WHEN EXTRACT(DAYOFWEEK FROM start_date) = 3 THEN \"TUE\"\n",
    "            WHEN EXTRACT(DAYOFWEEK FROM start_date) = 4 THEN \"WED\"\n",
    "            WHEN EXTRACT(DAYOFWEEK FROM start_date) = 5 THEN \"THR\"\n",
    "            WHEN EXTRACT(DAYOFWEEK FROM start_date) = 6 THEN \"FRI\"\n",
    "            WHEN EXTRACT(DAYOFWEEK FROM start_date) = 7 THEN \"SAT\"\n",
    "            ELSE Null END as day_of_week, \n",
    "            EXTRACT(HOUR FROM start_date) as hours,\n",
    "            trip_id,\n",
    "FROM `bigquery-public-data.san_francisco.bikeshare_trips`\n",
    ") as inner_table\n",
    "WHERE day_of_week in ('MON','TUE','WED','THR','FRI')\n",
    "GROUP BY hours\n",
    "ORDER BY hours\n",
    "\n"
   ]
  },
  {
   "cell_type": "markdown",
   "metadata": {},
   "source": [
    "Further investigate the trip frequency within weekdays (Mon to Fri). "
   ]
  },
  {
   "cell_type": "code",
   "execution_count": 75,
   "metadata": {},
   "outputs": [
    {
     "data": {
      "image/png": "[encoded data removed]",
      "text/plain": [
       "<Figure size 432x288 with 1 Axes>"
      ]
     },
     "metadata": {
      "needs_background": "light"
     },
     "output_type": "display_data"
    }
   ],
   "source": [
    "trips_by_hr_mon_to_fri.to_csv(r'~/w205/project-1-ocychang/trips_by_hr_mon_to_fri.csv', index = False)\n",
    "\n",
    "df = pd.read_csv('trips_by_hr_mon_to_fri.csv')\n",
    "df.set_index(df.hours, inplace=True)\n",
    "plt.bar(df['hours'], df['trip_counts'], align='center', alpha=0.8)\n",
    "plt.xlabel('hours')\n",
    "plt.ylabel('trip counts')\n",
    "plt.title('Week Day Trip Frequency vs. Hours')\n",
    "\n",
    "plt.show()\n"
   ]
  },
  {
   "cell_type": "markdown",
   "metadata": {},
   "source": [
    "The figure shows a bimodal distribution of trip frequency with modes at about 8am and 5pm. This further indicates that a great portion of bikeshare riders are commuters. \\\n",
    "Therefore, I am using the above criteria to filter all the trips down to only commuter trips. The criteria includes: (1) within weekdays, and (2) trip between 6am to 10am, and 3pm to 7pm."
   ]
  },
  {
   "cell_type": "markdown",
   "metadata": {},
   "source": [
    "Investigate overall top popular trips."
   ]
  },
  {
   "cell_type": "code",
   "execution_count": 34,
   "metadata": {},
   "outputs": [],
   "source": [
    "%%bigquery top_5_com_trips\n",
    "\n",
    "SELECT COUNT(distinct trip_id) as com_trip ,start_station_name, end_station_name FROM\n",
    "(\n",
    "SELECT CASE WHEN EXTRACT(DAYOFWEEK FROM start_date) = 1 THEN \"SUN\"\n",
    "            WHEN EXTRACT(DAYOFWEEK FROM start_date) = 2 THEN \"MON\"\n",
    "            WHEN EXTRACT(DAYOFWEEK FROM start_date) = 3 THEN \"TUE\"\n",
    "            WHEN EXTRACT(DAYOFWEEK FROM start_date) = 4 THEN \"WED\"\n",
    "            WHEN EXTRACT(DAYOFWEEK FROM start_date) = 5 THEN \"THR\"\n",
    "            WHEN EXTRACT(DAYOFWEEK FROM start_date) = 6 THEN \"FRI\"\n",
    "            WHEN EXTRACT(DAYOFWEEK FROM start_date) = 7 THEN \"SAT\"\n",
    "            ELSE Null END as day_of_week, \n",
    "            EXTRACT(HOUR FROM start_date) as hours,\n",
    "            trip_id,\n",
    "            start_station_name,\n",
    "            end_station_name,\n",
    "FROM `bigquery-public-data.san_francisco.bikeshare_trips`\n",
    ") as inner_table\n",
    "WHERE day_of_week in ('MON','TUE','WED','THR','FRI') and hours in (6,7,8,9,10,15,16,17,18,19)\n",
    "GROUP BY start_station_name, end_station_name \n",
    "ORDER BY com_trip DESC\n",
    "LIMIT 5\n",
    "\n",
    "# GROUP BY hours\n",
    "# ORDER BY hours"
   ]
  },
  {
   "cell_type": "code",
   "execution_count": 35,
   "metadata": {},
   "outputs": [
    {
     "data": {
      "text/html": [
       "<div>\n",
       "<style scoped>\n",
       "    .dataframe tbody tr th:only-of-type {\n",
       "        vertical-align: middle;\n",
       "    }\n",
       "\n",
       "    .dataframe tbody tr th {\n",
       "        vertical-align: top;\n",
       "    }\n",
       "\n",
       "    .dataframe thead th {\n",
       "        text-align: right;\n",
       "    }\n",
       "</style>\n",
       "<table border=\"1\" class=\"dataframe\">\n",
       "  <thead>\n",
       "    <tr style=\"text-align: right;\">\n",
       "      <th></th>\n",
       "      <th>com_trip</th>\n",
       "      <th>start_station_name</th>\n",
       "      <th>end_station_name</th>\n",
       "    </tr>\n",
       "  </thead>\n",
       "  <tbody>\n",
       "    <tr>\n",
       "      <th>0</th>\n",
       "      <td>6632</td>\n",
       "      <td>San Francisco Caltrain 2 (330 Townsend)</td>\n",
       "      <td>Townsend at 7th</td>\n",
       "    </tr>\n",
       "    <tr>\n",
       "      <th>1</th>\n",
       "      <td>6166</td>\n",
       "      <td>2nd at Townsend</td>\n",
       "      <td>Harry Bridges Plaza (Ferry Building)</td>\n",
       "    </tr>\n",
       "    <tr>\n",
       "      <th>2</th>\n",
       "      <td>5716</td>\n",
       "      <td>Harry Bridges Plaza (Ferry Building)</td>\n",
       "      <td>2nd at Townsend</td>\n",
       "    </tr>\n",
       "    <tr>\n",
       "      <th>3</th>\n",
       "      <td>5689</td>\n",
       "      <td>Embarcadero at Folsom</td>\n",
       "      <td>San Francisco Caltrain (Townsend at 4th)</td>\n",
       "    </tr>\n",
       "    <tr>\n",
       "      <th>4</th>\n",
       "      <td>5512</td>\n",
       "      <td>Embarcadero at Sansome</td>\n",
       "      <td>Steuart at Market</td>\n",
       "    </tr>\n",
       "  </tbody>\n",
       "</table>\n",
       "</div>"
      ],
      "text/plain": [
       "   com_trip                       start_station_name  \\\n",
       "0      6632  San Francisco Caltrain 2 (330 Townsend)   \n",
       "1      6166                          2nd at Townsend   \n",
       "2      5716     Harry Bridges Plaza (Ferry Building)   \n",
       "3      5689                    Embarcadero at Folsom   \n",
       "4      5512                   Embarcadero at Sansome   \n",
       "\n",
       "                           end_station_name  \n",
       "0                           Townsend at 7th  \n",
       "1      Harry Bridges Plaza (Ferry Building)  \n",
       "2                           2nd at Townsend  \n",
       "3  San Francisco Caltrain (Townsend at 4th)  \n",
       "4                         Steuart at Market  "
      ]
     },
     "execution_count": 35,
     "metadata": {},
     "output_type": "execute_result"
    }
   ],
   "source": [
    "top_5_com_trips.to_csv(r'~/w205/project-1-ocychang/top_5_com_trips.csv', index = False)\n",
    "top_5_com_trips"
   ]
  },
  {
   "cell_type": "code",
   "execution_count": 42,
   "metadata": {},
   "outputs": [],
   "source": [
    "%%bigquery popular_5_trips\n",
    "\n",
    "SELECT start_station_name, end_station_name, COUNT(distinct trip_id) as pop_trip \n",
    "FROM `bigquery-public-data.san_francisco.bikeshare_trips` \n",
    "GROUP BY start_station_name, end_station_name \n",
    "ORDER BY pop_trip  DESC LIMIT 5\n",
    "\n"
   ]
  },
  {
   "cell_type": "code",
   "execution_count": 43,
   "metadata": {},
   "outputs": [
    {
     "data": {
      "text/html": [
       "<div>\n",
       "<style scoped>\n",
       "    .dataframe tbody tr th:only-of-type {\n",
       "        vertical-align: middle;\n",
       "    }\n",
       "\n",
       "    .dataframe tbody tr th {\n",
       "        vertical-align: top;\n",
       "    }\n",
       "\n",
       "    .dataframe thead th {\n",
       "        text-align: right;\n",
       "    }\n",
       "</style>\n",
       "<table border=\"1\" class=\"dataframe\">\n",
       "  <thead>\n",
       "    <tr style=\"text-align: right;\">\n",
       "      <th></th>\n",
       "      <th>start_station_name</th>\n",
       "      <th>end_station_name</th>\n",
       "      <th>pop_trip</th>\n",
       "    </tr>\n",
       "  </thead>\n",
       "  <tbody>\n",
       "    <tr>\n",
       "      <th>0</th>\n",
       "      <td>Harry Bridges Plaza (Ferry Building)</td>\n",
       "      <td>Embarcadero at Sansome</td>\n",
       "      <td>9150</td>\n",
       "    </tr>\n",
       "    <tr>\n",
       "      <th>1</th>\n",
       "      <td>San Francisco Caltrain 2 (330 Townsend)</td>\n",
       "      <td>Townsend at 7th</td>\n",
       "      <td>8508</td>\n",
       "    </tr>\n",
       "    <tr>\n",
       "      <th>2</th>\n",
       "      <td>2nd at Townsend</td>\n",
       "      <td>Harry Bridges Plaza (Ferry Building)</td>\n",
       "      <td>7620</td>\n",
       "    </tr>\n",
       "    <tr>\n",
       "      <th>3</th>\n",
       "      <td>Harry Bridges Plaza (Ferry Building)</td>\n",
       "      <td>2nd at Townsend</td>\n",
       "      <td>6888</td>\n",
       "    </tr>\n",
       "    <tr>\n",
       "      <th>4</th>\n",
       "      <td>Embarcadero at Sansome</td>\n",
       "      <td>Steuart at Market</td>\n",
       "      <td>6874</td>\n",
       "    </tr>\n",
       "  </tbody>\n",
       "</table>\n",
       "</div>"
      ],
      "text/plain": [
       "                        start_station_name  \\\n",
       "0     Harry Bridges Plaza (Ferry Building)   \n",
       "1  San Francisco Caltrain 2 (330 Townsend)   \n",
       "2                          2nd at Townsend   \n",
       "3     Harry Bridges Plaza (Ferry Building)   \n",
       "4                   Embarcadero at Sansome   \n",
       "\n",
       "                       end_station_name  pop_trip  \n",
       "0                Embarcadero at Sansome      9150  \n",
       "1                       Townsend at 7th      8508  \n",
       "2  Harry Bridges Plaza (Ferry Building)      7620  \n",
       "3                       2nd at Townsend      6888  \n",
       "4                     Steuart at Market      6874  "
      ]
     },
     "execution_count": 43,
     "metadata": {},
     "output_type": "execute_result"
    }
   ],
   "source": [
    "popular_5_trips.to_csv(r'~/w205/project-1-ocychang/popular_5_trips.csv', index = False)\n",
    "popular_5_trips"
   ]
  },
  {
   "cell_type": "markdown",
   "metadata": {},
   "source": [
    "Investigate top weekend trips."
   ]
  },
  {
   "cell_type": "code",
   "execution_count": 44,
   "metadata": {},
   "outputs": [],
   "source": [
    "%%bigquery top_weekend_trips\n",
    "\n",
    "SELECT COUNT(distinct trip_id) as weekend_trip ,start_station_name, end_station_name FROM\n",
    "(\n",
    "SELECT CASE WHEN EXTRACT(DAYOFWEEK FROM start_date) = 1 THEN \"SUN\"\n",
    "            WHEN EXTRACT(DAYOFWEEK FROM start_date) = 2 THEN \"MON\"\n",
    "            WHEN EXTRACT(DAYOFWEEK FROM start_date) = 3 THEN \"TUE\"\n",
    "            WHEN EXTRACT(DAYOFWEEK FROM start_date) = 4 THEN \"WED\"\n",
    "            WHEN EXTRACT(DAYOFWEEK FROM start_date) = 5 THEN \"THR\"\n",
    "            WHEN EXTRACT(DAYOFWEEK FROM start_date) = 6 THEN \"FRI\"\n",
    "            WHEN EXTRACT(DAYOFWEEK FROM start_date) = 7 THEN \"SAT\"\n",
    "            ELSE Null END as day_of_week, \n",
    "            EXTRACT(HOUR FROM start_date) as hours,\n",
    "            trip_id,\n",
    "            start_station_name,\n",
    "            end_station_name,\n",
    "FROM `bigquery-public-data.san_francisco.bikeshare_trips`\n",
    ") as inner_table\n",
    "WHERE day_of_week in ('SAT','SUN') \n",
    "GROUP BY start_station_name, end_station_name \n",
    "ORDER BY weekend_trip DESC\n",
    "LIMIT 5\n"
   ]
  },
  {
   "cell_type": "code",
   "execution_count": 46,
   "metadata": {},
   "outputs": [
    {
     "data": {
      "text/html": [
       "<div>\n",
       "<style scoped>\n",
       "    .dataframe tbody tr th:only-of-type {\n",
       "        vertical-align: middle;\n",
       "    }\n",
       "\n",
       "    .dataframe tbody tr th {\n",
       "        vertical-align: top;\n",
       "    }\n",
       "\n",
       "    .dataframe thead th {\n",
       "        text-align: right;\n",
       "    }\n",
       "</style>\n",
       "<table border=\"1\" class=\"dataframe\">\n",
       "  <thead>\n",
       "    <tr style=\"text-align: right;\">\n",
       "      <th></th>\n",
       "      <th>weekend_trip</th>\n",
       "      <th>start_station_name</th>\n",
       "      <th>end_station_name</th>\n",
       "    </tr>\n",
       "  </thead>\n",
       "  <tbody>\n",
       "    <tr>\n",
       "      <th>0</th>\n",
       "      <td>2078</td>\n",
       "      <td>Harry Bridges Plaza (Ferry Building)</td>\n",
       "      <td>Embarcadero at Sansome</td>\n",
       "    </tr>\n",
       "    <tr>\n",
       "      <th>1</th>\n",
       "      <td>1183</td>\n",
       "      <td>Embarcadero at Sansome</td>\n",
       "      <td>Harry Bridges Plaza (Ferry Building)</td>\n",
       "    </tr>\n",
       "    <tr>\n",
       "      <th>2</th>\n",
       "      <td>1146</td>\n",
       "      <td>Embarcadero at Sansome</td>\n",
       "      <td>Embarcadero at Sansome</td>\n",
       "    </tr>\n",
       "    <tr>\n",
       "      <th>3</th>\n",
       "      <td>1122</td>\n",
       "      <td>Harry Bridges Plaza (Ferry Building)</td>\n",
       "      <td>Harry Bridges Plaza (Ferry Building)</td>\n",
       "    </tr>\n",
       "    <tr>\n",
       "      <th>4</th>\n",
       "      <td>701</td>\n",
       "      <td>Embarcadero at Bryant</td>\n",
       "      <td>Embarcadero at Sansome</td>\n",
       "    </tr>\n",
       "  </tbody>\n",
       "</table>\n",
       "</div>"
      ],
      "text/plain": [
       "   weekend_trip                    start_station_name  \\\n",
       "0          2078  Harry Bridges Plaza (Ferry Building)   \n",
       "1          1183                Embarcadero at Sansome   \n",
       "2          1146                Embarcadero at Sansome   \n",
       "3          1122  Harry Bridges Plaza (Ferry Building)   \n",
       "4           701                 Embarcadero at Bryant   \n",
       "\n",
       "                       end_station_name  \n",
       "0                Embarcadero at Sansome  \n",
       "1  Harry Bridges Plaza (Ferry Building)  \n",
       "2                Embarcadero at Sansome  \n",
       "3  Harry Bridges Plaza (Ferry Building)  \n",
       "4                Embarcadero at Sansome  "
      ]
     },
     "execution_count": 46,
     "metadata": {},
     "output_type": "execute_result"
    }
   ],
   "source": [
    "top_weekend_trips.to_csv(r'~/w205/project-1-ocychang/top_weekend_trips.csv', index = False)\n",
    "top_weekend_trips"
   ]
  },
  {
   "cell_type": "markdown",
   "metadata": {},
   "source": [
    "Investigate the distribution of rider status over time each year (subscriber or not)."
   ]
  },
  {
   "cell_type": "code",
   "execution_count": 62,
   "metadata": {},
   "outputs": [],
   "source": [
    "%%bigquery rider_status\n",
    "\n",
    "SELECT subscriber_type, COUNT(distinct trip_id) as trip_count,\n",
    "EXTRACT(YEAR FROM start_date) as years\n",
    "FROM `bigquery-public-data.san_francisco.bikeshare_trips` \n",
    "GROUP BY subscriber_type, years\n",
    "ORDER BY years ASC, subscriber_type ASC"
   ]
  },
  {
   "cell_type": "code",
   "execution_count": 63,
   "metadata": {},
   "outputs": [
    {
     "data": {
      "text/html": [
       "<div>\n",
       "<style scoped>\n",
       "    .dataframe tbody tr th:only-of-type {\n",
       "        vertical-align: middle;\n",
       "    }\n",
       "\n",
       "    .dataframe tbody tr th {\n",
       "        vertical-align: top;\n",
       "    }\n",
       "\n",
       "    .dataframe thead th {\n",
       "        text-align: right;\n",
       "    }\n",
       "</style>\n",
       "<table border=\"1\" class=\"dataframe\">\n",
       "  <thead>\n",
       "    <tr style=\"text-align: right;\">\n",
       "      <th></th>\n",
       "      <th>subscriber_type</th>\n",
       "      <th>trip_count</th>\n",
       "      <th>years</th>\n",
       "    </tr>\n",
       "  </thead>\n",
       "  <tbody>\n",
       "    <tr>\n",
       "      <th>0</th>\n",
       "      <td>Customer</td>\n",
       "      <td>24499</td>\n",
       "      <td>2013</td>\n",
       "    </tr>\n",
       "    <tr>\n",
       "      <th>1</th>\n",
       "      <td>Subscriber</td>\n",
       "      <td>76064</td>\n",
       "      <td>2013</td>\n",
       "    </tr>\n",
       "    <tr>\n",
       "      <th>2</th>\n",
       "      <td>Customer</td>\n",
       "      <td>48576</td>\n",
       "      <td>2014</td>\n",
       "    </tr>\n",
       "    <tr>\n",
       "      <th>3</th>\n",
       "      <td>Subscriber</td>\n",
       "      <td>277763</td>\n",
       "      <td>2014</td>\n",
       "    </tr>\n",
       "    <tr>\n",
       "      <th>4</th>\n",
       "      <td>Customer</td>\n",
       "      <td>40530</td>\n",
       "      <td>2015</td>\n",
       "    </tr>\n",
       "    <tr>\n",
       "      <th>5</th>\n",
       "      <td>Subscriber</td>\n",
       "      <td>305722</td>\n",
       "      <td>2015</td>\n",
       "    </tr>\n",
       "    <tr>\n",
       "      <th>6</th>\n",
       "      <td>Customer</td>\n",
       "      <td>23204</td>\n",
       "      <td>2016</td>\n",
       "    </tr>\n",
       "    <tr>\n",
       "      <th>7</th>\n",
       "      <td>Subscriber</td>\n",
       "      <td>187290</td>\n",
       "      <td>2016</td>\n",
       "    </tr>\n",
       "  </tbody>\n",
       "</table>\n",
       "</div>"
      ],
      "text/plain": [
       "  subscriber_type  trip_count  years\n",
       "0        Customer       24499   2013\n",
       "1      Subscriber       76064   2013\n",
       "2        Customer       48576   2014\n",
       "3      Subscriber      277763   2014\n",
       "4        Customer       40530   2015\n",
       "5      Subscriber      305722   2015\n",
       "6        Customer       23204   2016\n",
       "7      Subscriber      187290   2016"
      ]
     },
     "execution_count": 63,
     "metadata": {},
     "output_type": "execute_result"
    }
   ],
   "source": [
    "rider_status.to_csv(r'~/w205/project-1-ocychang/rider_status.csv', index = False)\n",
    "rider_status"
   ]
  },
  {
   "cell_type": "code",
   "execution_count": 122,
   "metadata": {},
   "outputs": [
    {
     "data": {
      "image/png": "[encoded data removed]",
      "text/plain": [
       "<Figure size 432x288 with 1 Axes>"
      ]
     },
     "metadata": {
      "needs_background": "light"
     },
     "output_type": "display_data"
    }
   ],
   "source": [
    "# plot\n",
    "\n",
    "df = pd.read_csv('rider_status.csv')\n",
    "df1 = df[(df['subscriber_type']=='Subscriber')]\n",
    "df2 = df[(df['subscriber_type']=='Customer')]\n",
    "df1.set_index(df1.years, inplace=True)\n",
    "df2.set_index(df1.years, inplace=True)\n",
    "df1.columns = ['subscriber_type',\t'trip_count_s',\t'years']\n",
    "df2.columns = ['subscriber_type',\t'trip_count_c',\t'years']\n",
    "df3 = pd.concat([df1, df2], axis=1)\n",
    "df4 = df3[['trip_count_s','trip_count_c']]\n",
    "\n",
    "ax = df4.plot.bar(rot=0)\n",
    "# df = pd.read_csv('rider_status.csv')\n",
    "# df1 = df[(df['subscriber_type']=='Subscriber')]\n",
    "# df2 = df[(df['subscriber_type']=='Customer')]\n",
    "# inner_join_df= pd.merge(df1, df2, on='years', how='inner')\n",
    "# inner_join_df \n"
   ]
  },
  {
   "cell_type": "markdown",
   "metadata": {},
   "source": [
    "The subscribers (blue bar) are the majority of the bikeshare riders. However, both subscribers and single time customer trips declines after 2015. "
   ]
  },
  {
   "cell_type": "markdown",
   "metadata": {},
   "source": [
    "Investigate the trip duration distribution for commuters and single trip users."
   ]
  },
  {
   "cell_type": "code",
   "execution_count": 107,
   "metadata": {},
   "outputs": [],
   "source": [
    "%%bigquery trip_duration_com\n",
    "\n",
    "SELECT distinct trip_id, duration_min FROM\n",
    "(\n",
    "SELECT CASE WHEN EXTRACT(DAYOFWEEK FROM start_date) = 1 THEN \"SUN\"\n",
    "            WHEN EXTRACT(DAYOFWEEK FROM start_date) = 2 THEN \"MON\"\n",
    "            WHEN EXTRACT(DAYOFWEEK FROM start_date) = 3 THEN \"TUE\"\n",
    "            WHEN EXTRACT(DAYOFWEEK FROM start_date) = 4 THEN \"WED\"\n",
    "            WHEN EXTRACT(DAYOFWEEK FROM start_date) = 5 THEN \"THR\"\n",
    "            WHEN EXTRACT(DAYOFWEEK FROM start_date) = 6 THEN \"FRI\"\n",
    "            WHEN EXTRACT(DAYOFWEEK FROM start_date) = 7 THEN \"SAT\"\n",
    "            ELSE Null END as day_of_week, \n",
    "            EXTRACT(HOUR FROM start_date) as hours,\n",
    "            trip_id,\n",
    "            duration_sec/60 as duration_min\n",
    "FROM `bigquery-public-data.san_francisco.bikeshare_trips`\n",
    ") as inner_table\n",
    "WHERE day_of_week in ('MON','TUE','WED','THR','FRI') and hours in (6,7,8,9,10,15,16,17,18,19)\n",
    "ORDER BY duration_min DESC\n"
   ]
  },
  {
   "cell_type": "code",
   "execution_count": 36,
   "metadata": {},
   "outputs": [
    {
     "data": {
      "text/html": [
       "<div>\n",
       "<style scoped>\n",
       "    .dataframe tbody tr th:only-of-type {\n",
       "        vertical-align: middle;\n",
       "    }\n",
       "\n",
       "    .dataframe tbody tr th {\n",
       "        vertical-align: top;\n",
       "    }\n",
       "\n",
       "    .dataframe thead th {\n",
       "        text-align: right;\n",
       "    }\n",
       "</style>\n",
       "<table border=\"1\" class=\"dataframe\">\n",
       "  <thead>\n",
       "    <tr style=\"text-align: right;\">\n",
       "      <th></th>\n",
       "      <th>trip_id</th>\n",
       "      <th>duration_min</th>\n",
       "    </tr>\n",
       "  </thead>\n",
       "  <tbody>\n",
       "    <tr>\n",
       "      <th>count</th>\n",
       "      <td>6.894090e+05</td>\n",
       "      <td>689409.000000</td>\n",
       "    </tr>\n",
       "    <tr>\n",
       "      <th>mean</th>\n",
       "      <td>6.964826e+05</td>\n",
       "      <td>12.335325</td>\n",
       "    </tr>\n",
       "    <tr>\n",
       "      <th>std</th>\n",
       "      <td>3.793872e+05</td>\n",
       "      <td>67.259985</td>\n",
       "    </tr>\n",
       "    <tr>\n",
       "      <th>min</th>\n",
       "      <td>4.069000e+03</td>\n",
       "      <td>1.000000</td>\n",
       "    </tr>\n",
       "    <tr>\n",
       "      <th>25%</th>\n",
       "      <td>3.701510e+05</td>\n",
       "      <td>5.783333</td>\n",
       "    </tr>\n",
       "    <tr>\n",
       "      <th>50%</th>\n",
       "      <td>7.117820e+05</td>\n",
       "      <td>8.433333</td>\n",
       "    </tr>\n",
       "    <tr>\n",
       "      <th>75%</th>\n",
       "      <td>1.022231e+06</td>\n",
       "      <td>11.716667</td>\n",
       "    </tr>\n",
       "    <tr>\n",
       "      <th>max</th>\n",
       "      <td>1.338343e+06</td>\n",
       "      <td>18892.333333</td>\n",
       "    </tr>\n",
       "  </tbody>\n",
       "</table>\n",
       "</div>"
      ],
      "text/plain": [
       "            trip_id   duration_min\n",
       "count  6.894090e+05  689409.000000\n",
       "mean   6.964826e+05      12.335325\n",
       "std    3.793872e+05      67.259985\n",
       "min    4.069000e+03       1.000000\n",
       "25%    3.701510e+05       5.783333\n",
       "50%    7.117820e+05       8.433333\n",
       "75%    1.022231e+06      11.716667\n",
       "max    1.338343e+06   18892.333333"
      ]
     },
     "execution_count": 36,
     "metadata": {},
     "output_type": "execute_result"
    }
   ],
   "source": [
    "trip_duration_com.describe()"
   ]
  },
  {
   "cell_type": "code",
   "execution_count": 127,
   "metadata": {},
   "outputs": [
    {
     "name": "stdout",
     "output_type": "stream",
     "text": [
      "99% quantile = 76 min\n",
      "mode = 7 min\n"
     ]
    },
    {
     "data": {
      "text/plain": [
       "Text(0.5, 1.0, 'Weekday Rush Hours Trip Duration Distribution')"
      ]
     },
     "execution_count": 127,
     "metadata": {},
     "output_type": "execute_result"
    },
    {
     "data": {
      "image/png": "[encoded data removed]",
      "text/plain": [
       "<Figure size 432x288 with 1 Axes>"
      ]
     },
     "metadata": {
      "needs_background": "light"
     },
     "output_type": "display_data"
    }
   ],
   "source": [
    "print('99% quantile =',int(trip_duration_com['duration_min'].quantile(0.99)),  'min')\n",
    "print('mode =',int(trip_duration_com['duration_min'].mode()), 'min')\n",
    "trip_duration_com99 = trip_duration_com[ trip_duration_com['duration_min']<= 76 ] \n",
    "fig, axes = plt.subplots()\n",
    "trip_duration_com99.hist(column='duration_min',bins=50, ax = axes)\n",
    "plt.xlabel('duration(min)')\n",
    "plt.ylabel('trip counts')\n",
    "plt.title('Weekday Rush Hours Trip Duration Distribution')\n",
    "\n"
   ]
  },
  {
   "cell_type": "code",
   "execution_count": 101,
   "metadata": {},
   "outputs": [],
   "source": [
    "%%bigquery trip_duration_rand\n",
    "\n",
    "SELECT distinct trip_id, duration_min FROM\n",
    "(\n",
    "SELECT CASE WHEN EXTRACT(DAYOFWEEK FROM start_date) = 1 THEN \"SUN\"\n",
    "            WHEN EXTRACT(DAYOFWEEK FROM start_date) = 2 THEN \"MON\"\n",
    "            WHEN EXTRACT(DAYOFWEEK FROM start_date) = 3 THEN \"TUE\"\n",
    "            WHEN EXTRACT(DAYOFWEEK FROM start_date) = 4 THEN \"WED\"\n",
    "            WHEN EXTRACT(DAYOFWEEK FROM start_date) = 5 THEN \"THR\"\n",
    "            WHEN EXTRACT(DAYOFWEEK FROM start_date) = 6 THEN \"FRI\"\n",
    "            WHEN EXTRACT(DAYOFWEEK FROM start_date) = 7 THEN \"SAT\"\n",
    "            ELSE Null END as day_of_week, \n",
    "            trip_id,\n",
    "            duration_sec/60 as duration_min,\n",
    "FROM `bigquery-public-data.san_francisco.bikeshare_trips`\n",
    ") as inner_table\n",
    "WHERE day_of_week in ('SAT','SUN') \n",
    "ORDER BY duration_min DESC"
   ]
  },
  {
   "cell_type": "code",
   "execution_count": 89,
   "metadata": {},
   "outputs": [
    {
     "data": {
      "text/html": [
       "<div>\n",
       "<style scoped>\n",
       "    .dataframe tbody tr th:only-of-type {\n",
       "        vertical-align: middle;\n",
       "    }\n",
       "\n",
       "    .dataframe tbody tr th {\n",
       "        vertical-align: top;\n",
       "    }\n",
       "\n",
       "    .dataframe thead th {\n",
       "        text-align: right;\n",
       "    }\n",
       "</style>\n",
       "<table border=\"1\" class=\"dataframe\">\n",
       "  <thead>\n",
       "    <tr style=\"text-align: right;\">\n",
       "      <th></th>\n",
       "      <th>trip_id</th>\n",
       "      <th>duration_min</th>\n",
       "    </tr>\n",
       "  </thead>\n",
       "  <tbody>\n",
       "    <tr>\n",
       "      <th>count</th>\n",
       "      <td>1.116540e+05</td>\n",
       "      <td>111654.000000</td>\n",
       "    </tr>\n",
       "    <tr>\n",
       "      <th>mean</th>\n",
       "      <td>5.969643e+05</td>\n",
       "      <td>41.699662</td>\n",
       "    </tr>\n",
       "    <tr>\n",
       "      <th>std</th>\n",
       "      <td>3.954970e+05</td>\n",
       "      <td>887.134667</td>\n",
       "    </tr>\n",
       "    <tr>\n",
       "      <th>min</th>\n",
       "      <td>6.481000e+03</td>\n",
       "      <td>1.000000</td>\n",
       "    </tr>\n",
       "    <tr>\n",
       "      <th>25%</th>\n",
       "      <td>2.460352e+05</td>\n",
       "      <td>7.216667</td>\n",
       "    </tr>\n",
       "    <tr>\n",
       "      <th>50%</th>\n",
       "      <td>5.681685e+05</td>\n",
       "      <td>12.300000</td>\n",
       "    </tr>\n",
       "    <tr>\n",
       "      <th>75%</th>\n",
       "      <td>9.209938e+05</td>\n",
       "      <td>23.416667</td>\n",
       "    </tr>\n",
       "    <tr>\n",
       "      <th>max</th>\n",
       "      <td>1.333533e+06</td>\n",
       "      <td>287840.000000</td>\n",
       "    </tr>\n",
       "  </tbody>\n",
       "</table>\n",
       "</div>"
      ],
      "text/plain": [
       "            trip_id   duration_min\n",
       "count  1.116540e+05  111654.000000\n",
       "mean   5.969643e+05      41.699662\n",
       "std    3.954970e+05     887.134667\n",
       "min    6.481000e+03       1.000000\n",
       "25%    2.460352e+05       7.216667\n",
       "50%    5.681685e+05      12.300000\n",
       "75%    9.209938e+05      23.416667\n",
       "max    1.333533e+06  287840.000000"
      ]
     },
     "execution_count": 89,
     "metadata": {},
     "output_type": "execute_result"
    }
   ],
   "source": [
    "trip_duration_rand.describe()"
   ]
  },
  {
   "cell_type": "code",
   "execution_count": 125,
   "metadata": {},
   "outputs": [
    {
     "name": "stdout",
     "output_type": "stream",
     "text": [
      "95% quantile = 151 min\n",
      "mode = 0    6.416667\n",
      "1    6.500000\n",
      "2    7.666667\n",
      "dtype: float64 min\n"
     ]
    },
    {
     "data": {
      "text/plain": [
       "Text(0.5, 1.0, 'Weekend Hours Trip Duration Distribution')"
      ]
     },
     "execution_count": 125,
     "metadata": {},
     "output_type": "execute_result"
    },
    {
     "data": {
      "image/png": "[encoded data removed]",
      "text/plain": [
       "<Figure size 432x288 with 1 Axes>"
      ]
     },
     "metadata": {
      "needs_background": "light"
     },
     "output_type": "display_data"
    }
   ],
   "source": [
    "print('95% quantile =',int(trip_duration_rand['duration_min'].quantile(0.95)),  'min')\n",
    "print('mode =',trip_duration_rand['duration_min'].mode(), 'min')\n",
    "trip_duration_rand95 = trip_duration_rand[ trip_duration_rand['duration_min']<= 76 ] \n",
    "\n",
    "fig, axes = plt.subplots()\n",
    "trip_duration_rand95.hist(column='duration_min',bins=50, ax = axes)\n",
    "plt.xlabel('duration(min)')\n",
    "plt.ylabel('trip counts')\n",
    "plt.title('Weekend Hours Trip Duration Distribution')\n"
   ]
  },
  {
   "cell_type": "markdown",
   "metadata": {},
   "source": [
    "The trip duration distribution is highly skewed both in Weekdays and weekends. The average trip duration in weekdays is 12 mins, and the mode is 7 mins. On weekend, the average duration is 41 mins, and mode is 7 mins. \\\n",
    "\n",
    "The top popular trips on weekdays and weekends are very different. On weekdays, The top trips are:\n",
    "1.  San Francisco Caltrain 2 (330 Townsend)\tTownsend at 7th\n",
    "2.\t6166\t2nd at Townsend\tHarry Bridges Plaza (Ferry Building)\n",
    "3.\t5716\tHarry Bridges Plaza (Ferry Building)\t2nd at Townsend\n",
    "4.\t5689\tEmbarcadero at Folsom\tSan Francisco Caltrain (Townsend at 4th)\n",
    "5.\t5512\tEmbarcadero at Sansome\tSteuart at Market\n",
    "\n",
    "The results indicate strong features of commutes, such as ferry and Caltrain. \\\n",
    "\\\n",
    "On the other hand, the top trips on weekends are:\n",
    "1.\t2078\tHarry Bridges Plaza (Ferry Building)\tEmbarcadero at Sansome\n",
    "2.\t1183\tEmbarcadero at Sansome\tHarry Bridges Plaza (Ferry Building)\n",
    "3.\t1146\tEmbarcadero at Sansome\tEmbarcadero at Sansome\n",
    "4.\t1122\tHarry Bridges Plaza (Ferry Building)\tHarry Bridges Plaza (Ferry Building)\n",
    "5.\t701\tEmbarcadero at Bryant\tEmbarcadero at Sansome\n",
    "\n",
    "The results show more rounds trips, which suggests that the riders are tourists who return thier bikes after a spin. In addition, the top trips do not contain caltrain stations, which supports the previous conclusion. The ferry building and Embarcadero at Sansome show up in the results. However, I suspect that both stations here are not for work commute purposes, but for tourism purposes. This indicates the importance of these stations due to thier multi-purpose functionality that bike demands are strong.  \n"
   ]
  },
  {
   "cell_type": "markdown",
   "metadata": {},
   "source": [
    "Investigate stations with no available bikes or docks within a week and within a day."
   ]
  },
  {
   "cell_type": "code",
   "execution_count": 48,
   "metadata": {},
   "outputs": [],
   "source": [
    "%%bigquery empty_stations\n",
    "\n",
    "SELECT \n",
    "COUNT (bs.bikes_available) as empty_count,\n",
    "bs.station_id,\n",
    "bt.name,\n",
    "FROM `bigquery-public-data.san_francisco.bikeshare_status` as bs\n",
    "LEFT JOIN `bigquery-public-data.san_francisco.bikeshare_stations` as bt\n",
    "ON bs.station_id = bt.station_id\n",
    "WHERE bs.bikes_available =0 \n",
    "GROUP BY bs.station_id, bt.name\n",
    "ORDER BY empty_count DESC\n"
   ]
  },
  {
   "cell_type": "code",
   "execution_count": 49,
   "metadata": {},
   "outputs": [
    {
     "data": {
      "text/html": [
       "<div>\n",
       "<style scoped>\n",
       "    .dataframe tbody tr th:only-of-type {\n",
       "        vertical-align: middle;\n",
       "    }\n",
       "\n",
       "    .dataframe tbody tr th {\n",
       "        vertical-align: top;\n",
       "    }\n",
       "\n",
       "    .dataframe thead th {\n",
       "        text-align: right;\n",
       "    }\n",
       "</style>\n",
       "<table border=\"1\" class=\"dataframe\">\n",
       "  <thead>\n",
       "    <tr style=\"text-align: right;\">\n",
       "      <th></th>\n",
       "      <th>empty_count</th>\n",
       "      <th>station_id</th>\n",
       "      <th>name</th>\n",
       "    </tr>\n",
       "  </thead>\n",
       "  <tbody>\n",
       "    <tr>\n",
       "      <th>0</th>\n",
       "      <td>44844</td>\n",
       "      <td>62</td>\n",
       "      <td>2nd at Folsom</td>\n",
       "    </tr>\n",
       "    <tr>\n",
       "      <th>1</th>\n",
       "      <td>44728</td>\n",
       "      <td>45</td>\n",
       "      <td>Commercial at Montgomery</td>\n",
       "    </tr>\n",
       "    <tr>\n",
       "      <th>2</th>\n",
       "      <td>35903</td>\n",
       "      <td>48</td>\n",
       "      <td>Embarcadero at Vallejo</td>\n",
       "    </tr>\n",
       "    <tr>\n",
       "      <th>3</th>\n",
       "      <td>32980</td>\n",
       "      <td>60</td>\n",
       "      <td>Embarcadero at Sansome</td>\n",
       "    </tr>\n",
       "    <tr>\n",
       "      <th>4</th>\n",
       "      <td>32505</td>\n",
       "      <td>41</td>\n",
       "      <td>Clay at Battery</td>\n",
       "    </tr>\n",
       "    <tr>\n",
       "      <th>5</th>\n",
       "      <td>32027</td>\n",
       "      <td>70</td>\n",
       "      <td>San Francisco Caltrain (Townsend at 4th)</td>\n",
       "    </tr>\n",
       "    <tr>\n",
       "      <th>6</th>\n",
       "      <td>31733</td>\n",
       "      <td>73</td>\n",
       "      <td>Grant Avenue at Columbus Avenue</td>\n",
       "    </tr>\n",
       "    <tr>\n",
       "      <th>7</th>\n",
       "      <td>30800</td>\n",
       "      <td>76</td>\n",
       "      <td>Market at 4th</td>\n",
       "    </tr>\n",
       "    <tr>\n",
       "      <th>8</th>\n",
       "      <td>27938</td>\n",
       "      <td>63</td>\n",
       "      <td>Howard at 2nd</td>\n",
       "    </tr>\n",
       "    <tr>\n",
       "      <th>9</th>\n",
       "      <td>25496</td>\n",
       "      <td>82</td>\n",
       "      <td>Broadway St at Battery St</td>\n",
       "    </tr>\n",
       "  </tbody>\n",
       "</table>\n",
       "</div>"
      ],
      "text/plain": [
       "   empty_count  station_id                                      name\n",
       "0        44844          62                             2nd at Folsom\n",
       "1        44728          45                  Commercial at Montgomery\n",
       "2        35903          48                    Embarcadero at Vallejo\n",
       "3        32980          60                    Embarcadero at Sansome\n",
       "4        32505          41                           Clay at Battery\n",
       "5        32027          70  San Francisco Caltrain (Townsend at 4th)\n",
       "6        31733          73           Grant Avenue at Columbus Avenue\n",
       "7        30800          76                             Market at 4th\n",
       "8        27938          63                             Howard at 2nd\n",
       "9        25496          82                 Broadway St at Battery St"
      ]
     },
     "execution_count": 49,
     "metadata": {},
     "output_type": "execute_result"
    }
   ],
   "source": [
    "empty_stations.head(10)"
   ]
  },
  {
   "cell_type": "code",
   "execution_count": 66,
   "metadata": {},
   "outputs": [],
   "source": [
    "%%bigquery empty_days\n",
    "\n",
    "SELECT COUNT (bs.bikes_available) as empty_count, \n",
    "# bt.name,\n",
    "CASE WHEN EXTRACT(DAYOFWEEK FROM bs.time) = 1 THEN \"SUN\"\n",
    "            WHEN EXTRACT(DAYOFWEEK FROM bs.time) = 2 THEN \"MON\"\n",
    "            WHEN EXTRACT(DAYOFWEEK FROM bs.time) = 3 THEN \"TUE\"\n",
    "            WHEN EXTRACT(DAYOFWEEK FROM bs.time) = 4 THEN \"WED\"\n",
    "            WHEN EXTRACT(DAYOFWEEK FROM bs.time) = 5 THEN \"THR\"\n",
    "            WHEN EXTRACT(DAYOFWEEK FROM bs.time) = 6 THEN \"FRI\"\n",
    "            WHEN EXTRACT(DAYOFWEEK FROM bs.time) = 7 THEN \"SAT\"\n",
    "            ELSE Null END as day_of_week, \n",
    "FROM `bigquery-public-data.san_francisco.bikeshare_status` as bs\n",
    "LEFT JOIN `bigquery-public-data.san_francisco.bikeshare_stations` as bt\n",
    "ON bs.station_id = bt.station_id\n",
    "WHERE bs.bikes_available =0 \n",
    "GROUP BY day_of_week\n",
    "ORDER BY day_of_week \n",
    "\n",
    "\n"
   ]
  },
  {
   "cell_type": "code",
   "execution_count": 71,
   "metadata": {},
   "outputs": [
    {
     "data": {
      "image/png": "[encoded data removed]",
      "text/plain": [
       "<Figure size 432x288 with 1 Axes>"
      ]
     },
     "metadata": {
      "needs_background": "light"
     },
     "output_type": "display_data"
    }
   ],
   "source": [
    "df = empty_days\n",
    "df.set_index(df.day_of_week, inplace=True)\n",
    "reorderlist = ['SUN','MON','TUE','WED','THR','FRI','SAT']\n",
    "df = df.reindex(reorderlist)\n",
    "plt.bar(df['day_of_week'], df['empty_count'], align='center', alpha=0.8)\n",
    "plt.xlabel('day of week')\n",
    "plt.ylabel('empty bike incident counts')\n",
    "plt.title('Empty Bike Incident vs. Day of Week')\n",
    "\n",
    "plt.show()\n"
   ]
  },
  {
   "cell_type": "code",
   "execution_count": 72,
   "metadata": {},
   "outputs": [],
   "source": [
    "%%bigquery empty_hours\n",
    "\n",
    "SELECT COUNT (bs.bikes_available) as empty_count, \n",
    "EXTRACT(HOUR FROM  bs.time) as hours,\n",
    "FROM `bigquery-public-data.san_francisco.bikeshare_status` as bs\n",
    "WHERE bs.bikes_available =0 \n",
    "GROUP BY hours\n",
    "ORDER BY hours\n"
   ]
  },
  {
   "cell_type": "code",
   "execution_count": 77,
   "metadata": {},
   "outputs": [
    {
     "data": {
      "image/png": "[encoded data removed]",
      "text/plain": [
       "<Figure size 432x288 with 1 Axes>"
      ]
     },
     "metadata": {
      "needs_background": "light"
     },
     "output_type": "display_data"
    }
   ],
   "source": [
    "df = empty_hours\n",
    "df.set_index(df.hours, inplace=True)\n",
    "plt.bar(df['hours'], df['empty_count'], align='center', alpha=0.8)\n",
    "plt.xlabel('hours')\n",
    "plt.ylabel('empty counts')\n",
    "plt.title('Empty Bike Incident vs. Hours')\n",
    "\n",
    "plt.show()"
   ]
  },
  {
   "cell_type": "code",
   "execution_count": 93,
   "metadata": {},
   "outputs": [],
   "source": [
    "%%bigquery empty_dock_stations\n",
    "\n",
    "SELECT \n",
    "COUNT (bs.docks_available) as empty_count,\n",
    "bs.station_id,\n",
    "bt.name,\n",
    "FROM `bigquery-public-data.san_francisco.bikeshare_status` as bs\n",
    "LEFT JOIN `bigquery-public-data.san_francisco.bikeshare_stations` as bt\n",
    "ON bs.station_id = bt.station_id\n",
    "WHERE bs.docks_available =0 \n",
    "GROUP BY bs.station_id, bt.name\n",
    "ORDER BY empty_count DESC"
   ]
  },
  {
   "cell_type": "code",
   "execution_count": 94,
   "metadata": {},
   "outputs": [
    {
     "data": {
      "text/html": [
       "<div>\n",
       "<style scoped>\n",
       "    .dataframe tbody tr th:only-of-type {\n",
       "        vertical-align: middle;\n",
       "    }\n",
       "\n",
       "    .dataframe tbody tr th {\n",
       "        vertical-align: top;\n",
       "    }\n",
       "\n",
       "    .dataframe thead th {\n",
       "        text-align: right;\n",
       "    }\n",
       "</style>\n",
       "<table border=\"1\" class=\"dataframe\">\n",
       "  <thead>\n",
       "    <tr style=\"text-align: right;\">\n",
       "      <th></th>\n",
       "      <th>empty_count</th>\n",
       "      <th>station_id</th>\n",
       "      <th>name</th>\n",
       "    </tr>\n",
       "  </thead>\n",
       "  <tbody>\n",
       "    <tr>\n",
       "      <th>0</th>\n",
       "      <td>43079</td>\n",
       "      <td>70</td>\n",
       "      <td>San Francisco Caltrain (Townsend at 4th)</td>\n",
       "    </tr>\n",
       "    <tr>\n",
       "      <th>1</th>\n",
       "      <td>39401</td>\n",
       "      <td>54</td>\n",
       "      <td>Embarcadero at Bryant</td>\n",
       "    </tr>\n",
       "    <tr>\n",
       "      <th>2</th>\n",
       "      <td>33112</td>\n",
       "      <td>73</td>\n",
       "      <td>Grant Avenue at Columbus Avenue</td>\n",
       "    </tr>\n",
       "    <tr>\n",
       "      <th>3</th>\n",
       "      <td>25476</td>\n",
       "      <td>60</td>\n",
       "      <td>Embarcadero at Sansome</td>\n",
       "    </tr>\n",
       "    <tr>\n",
       "      <th>4</th>\n",
       "      <td>23605</td>\n",
       "      <td>69</td>\n",
       "      <td>San Francisco Caltrain 2 (330 Townsend)</td>\n",
       "    </tr>\n",
       "    <tr>\n",
       "      <th>5</th>\n",
       "      <td>18534</td>\n",
       "      <td>65</td>\n",
       "      <td>Townsend at 7th</td>\n",
       "    </tr>\n",
       "    <tr>\n",
       "      <th>6</th>\n",
       "      <td>18036</td>\n",
       "      <td>50</td>\n",
       "      <td>Harry Bridges Plaza (Ferry Building)</td>\n",
       "    </tr>\n",
       "    <tr>\n",
       "      <th>7</th>\n",
       "      <td>17017</td>\n",
       "      <td>72</td>\n",
       "      <td>Civic Center BART (7th at Market)</td>\n",
       "    </tr>\n",
       "    <tr>\n",
       "      <th>8</th>\n",
       "      <td>16824</td>\n",
       "      <td>48</td>\n",
       "      <td>Embarcadero at Vallejo</td>\n",
       "    </tr>\n",
       "    <tr>\n",
       "      <th>9</th>\n",
       "      <td>14279</td>\n",
       "      <td>39</td>\n",
       "      <td>Powell Street BART</td>\n",
       "    </tr>\n",
       "  </tbody>\n",
       "</table>\n",
       "</div>"
      ],
      "text/plain": [
       "   empty_count  station_id                                      name\n",
       "0        43079          70  San Francisco Caltrain (Townsend at 4th)\n",
       "1        39401          54                     Embarcadero at Bryant\n",
       "2        33112          73           Grant Avenue at Columbus Avenue\n",
       "3        25476          60                    Embarcadero at Sansome\n",
       "4        23605          69   San Francisco Caltrain 2 (330 Townsend)\n",
       "5        18534          65                           Townsend at 7th\n",
       "6        18036          50      Harry Bridges Plaza (Ferry Building)\n",
       "7        17017          72         Civic Center BART (7th at Market)\n",
       "8        16824          48                    Embarcadero at Vallejo\n",
       "9        14279          39                        Powell Street BART"
      ]
     },
     "execution_count": 94,
     "metadata": {},
     "output_type": "execute_result"
    }
   ],
   "source": [
    "empty_dock_stations.head(10)"
   ]
  },
  {
   "cell_type": "code",
   "execution_count": 80,
   "metadata": {},
   "outputs": [],
   "source": [
    "%%bigquery empty_dock_days\n",
    "\n",
    "SELECT COUNT (bs.docks_available) as empty_count, \n",
    "# bt.name,\n",
    "CASE WHEN EXTRACT(DAYOFWEEK FROM bs.time) = 1 THEN \"SUN\"\n",
    "            WHEN EXTRACT(DAYOFWEEK FROM bs.time) = 2 THEN \"MON\"\n",
    "            WHEN EXTRACT(DAYOFWEEK FROM bs.time) = 3 THEN \"TUE\"\n",
    "            WHEN EXTRACT(DAYOFWEEK FROM bs.time) = 4 THEN \"WED\"\n",
    "            WHEN EXTRACT(DAYOFWEEK FROM bs.time) = 5 THEN \"THR\"\n",
    "            WHEN EXTRACT(DAYOFWEEK FROM bs.time) = 6 THEN \"FRI\"\n",
    "            WHEN EXTRACT(DAYOFWEEK FROM bs.time) = 7 THEN \"SAT\"\n",
    "            ELSE Null END as day_of_week, \n",
    "FROM `bigquery-public-data.san_francisco.bikeshare_status` as bs\n",
    "LEFT JOIN `bigquery-public-data.san_francisco.bikeshare_stations` as bt\n",
    "ON bs.station_id = bt.station_id\n",
    "WHERE bs.docks_available =0 \n",
    "GROUP BY day_of_week\n",
    "ORDER BY day_of_week \n"
   ]
  },
  {
   "cell_type": "code",
   "execution_count": 90,
   "metadata": {},
   "outputs": [
    {
     "data": {
      "image/png": "[encoded data removed]",
      "text/plain": [
       "<Figure size 432x288 with 1 Axes>"
      ]
     },
     "metadata": {
      "needs_background": "light"
     },
     "output_type": "display_data"
    }
   ],
   "source": [
    "df = empty_dock_days\n",
    "df.set_index(df.day_of_week, inplace=True)\n",
    "reorderlist = ['SUN','MON','TUE','WED','THR','FRI','SAT']\n",
    "df = df.reindex(reorderlist)\n",
    "plt.bar(df['day_of_week'], df['empty_count'], align='center', alpha=0.8)\n",
    "plt.xlabel('day of week')\n",
    "plt.ylabel('empty bike incident counts')\n",
    "plt.title('Empty Dock Incident vs. Day of Week')\n",
    "\n",
    "plt.show()"
   ]
  },
  {
   "cell_type": "code",
   "execution_count": 87,
   "metadata": {},
   "outputs": [],
   "source": [
    "%%bigquery empty_dock_hours\n",
    "\n",
    "SELECT COUNT (bs.docks_available) as empty_count, \n",
    "EXTRACT(HOUR FROM  bs.time) as hours,\n",
    "FROM `bigquery-public-data.san_francisco.bikeshare_status` as bs\n",
    "WHERE bs.docks_available =0 \n",
    "GROUP BY hours\n",
    "ORDER BY hours\n",
    "\n"
   ]
  },
  {
   "cell_type": "code",
   "execution_count": 89,
   "metadata": {},
   "outputs": [
    {
     "data": {
      "image/png": "[encoded data removed]",
      "text/plain": [
       "<Figure size 432x288 with 1 Axes>"
      ]
     },
     "metadata": {
      "needs_background": "light"
     },
     "output_type": "display_data"
    }
   ],
   "source": [
    "df = empty_dock_hours\n",
    "df.set_index(df.hours, inplace=True)\n",
    "plt.bar(df['hours'], df['empty_count'], align='center', alpha=0.8)\n",
    "plt.xlabel('hours')\n",
    "plt.ylabel('empty counts')\n",
    "plt.title('Empty Dock Incident vs. Hours')\n",
    "\n",
    "plt.show()"
   ]
  },
  {
   "cell_type": "markdown",
   "metadata": {},
   "source": [
    "The results indicate that the no-bike-available incidents follow the rush hour patterns. There is a higher chance that no bike is available at the stations listed above during weekdays and rush hours.\\\n",
    "On the other hand, the results indicate that the no-dock-available incidents follow the weekday patterns as well. However, it doesn't follow the rush hour pattern. The no-dock-available incidents tend to be very irregular and have multiple peaks during a 24 hour window. "
   ]
  },
  {
   "cell_type": "markdown",
   "metadata": {},
   "source": [
    "- What are your recommendations for offers (justify based on your findings)?\n",
    "\n",
    "1. **Provide more benefits to the subscribers.** Subscribers account for 85+% of the total trips 2013 to 2016. I think providing discounts or credits to the subscribers can help keep the riders under subscription, especially for the ones with the company for years. \n",
    "\n",
    "2. **Provide discount and bonus to single time customers.** Although the single time customers are not the majority of the users, it also means there is great potential. I think providing benefits for the single time users during weekends can increase the utilization rate of bikes. For example, work with shops, restaurants, and merchants close to the stations listed above for the weekends and provide rate discount if they vist the stores. \n",
    "\n",
    "- Solutions  in 1 and 2 can help address the problem observed at 2016 where the trips dropped significantly.   \n",
    "\n",
    "3. **Provide free of charge trips for riders who take the bikes from stations with no available docks to the stations with no available bikes.** During rush hours, there is a higher chance that, at some stations, there is no bike available for the users. Instead of hiring movers to transport bikes to the stations, the company can provide incentives, such as free trips, to riders who take the bikes to those stations. The company can further develop an APP to tell the riders where to move the bikes to. The riders can even sell the trips to others if the company makes more money overall.\n",
    "\n",
    "4. **Provide special offers for shorter trips.** Most of the trips are about 7 to 8 minutes during rush hours. However, there are still trips longer than 10 or 15 minutes. Providing incentives to increase the turn-over rate of bikes can help reduce the issues with no available bike and increase revenue.\n",
    "\n",
    "5. **Optimize bike allocation based on the analysis.** There are some stations listed above are constantly demanding more bikes and some have enough reserves during rush hours. I suggest that the company re-allocate the bikes across different stations based on the analysis condudcted. It may require more investment in infrastructures, but can increase the trips and revenue. \n"
   ]
  }
 ],
 "metadata": {
  "environment": {
   "name": "common-cpu.m59",
   "type": "gcloud",
   "uri": "gcr.io/deeplearning-platform-release/base-cpu:m59"
  },
  "kernelspec": {
   "display_name": "Python 3",
   "language": "python",
   "name": "python3"
  },
  "language_info": {
   "codemirror_mode": {
    "name": "ipython",
    "version": 3
   },
   "file_extension": ".py",
   "mimetype": "text/x-python",
   "name": "python",
   "nbconvert_exporter": "python",
   "pygments_lexer": "ipython3",
   "version": "3.7.8"
  }
 },
 "nbformat": 4,
 "nbformat_minor": 4
}
