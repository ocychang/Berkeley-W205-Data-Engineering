{
 "cells": [
  {
   "cell_type": "markdown",
   "metadata": {},
   "source": [
    "# W205 Team2 Project 3 Report\n",
    "Team members: Brendan Mattina, Mohamed Gesalla , Jared Dec, and Oliver Chang"
   ]
  },
  {
   "cell_type": "markdown",
   "metadata": {},
   "source": [
    "# Introduction and Project Goals\n",
    "\n",
    "The idea behind this project was to think from the perspective of consultants retained by a mobile gaming company. As consultants we were retained to make a data pipeline to funnel the data from the game itself and then analyze the data coming from a mobile game and help our clients make business decisions based upon them. This means that our work on this project can be divided into three major steps: generating data, constructing a data pipeline, and analyzing the data that comes out the other end of the data pipeline to help our clients make business decisions. The primary business questions that we set out to answer were: \n",
    "\n",
    "1) What policies could be enacted to help prevent a player from closing their account and cutting themselves off as a potential revenue stream?\n",
    "\n",
    "2) What policies could be enacted to cause more players to refer more of their friends to the game? \n",
    "\n",
    "3) What policies could be enacted to increase the likelihood that a player becomes a paid subscriber to our game and generate additional revenue?\n",
    "\n",
    "In the following sections we will break down how the game data was generated, how the data was funnelled to a pyspark notebook, and what the results were that we found to these questions.\n",
    "\n",
    "# Data generation \n",
    "\n",
    "Our sample data represents 10 monthly summaries for 10000 players of our fictitious mobile game. Each row includes a player ID, the month, monthly hours played, number of friends referred, player subscription (Boolean), monthly money spent, whether the player account is open (Boolean), whether a player purchased a sword (Boolean), and whether a player joined a guild (Boolean). Ultimately, monthly hours played will drive nearly every other column. We initiate the dataset by randomly assigning subscriptions, swords, and guilds; and, hours played and money paid, which we drew randomly from normal distributions. Purchasing a sword or joining a guild will increase monthly play time (based on a logistic formula). Otherwise, we draw monthly play time from normal distributions with means that shift based on previous month play time. Increasing play time increases the probability that a player subscribes and leads to more friend referrals (referrals are drawn from two different normal distributions). Once a player subscribes, we calculate their monthly spends with a logistic equation, otherwise their monthly spends are drawn from a random normal distribution. Finally, low play time increases the probability that they will close their account, and once a player’s account closes it will not reopen.\n",
    "\n",
    "# Description of Pipline\n",
    "\n",
    "The data pipeline is composed of the following components:\n",
    "\n",
    "1) Main notebook (W205_Team2_Project3_Report.ipynb)\n",
    "\n",
    "The main notebook contains several steps of the pipeline. At first, a docker container was launched with specifications described in the docker_compose.yml file. Once the container started, we loaded the simulated user behavior data into the notebook using pandas. We used Apache Bench to load the data into Kafka by calling a user-defined api. We defined different event types and event values when using Apache Bench to record the user behaviors. Two terminal  windows, kafka and web service api, were opened during the Apache Bench execution to monitor if the data was successfully consumed by the pipeline.\n",
    "\n",
    "The main notebook also contains the data query section where we used SparkSQL to call data from the stored parque files in HDFS. The data was retrieved from HDFS, organized as tables, and joined as our final working dataframe. The final working dataframe was then saved as a csv file for further analysis. For the demonstration purpose of this project, we loaded only a section of the entire dataset to the pipeline.     \n",
    "\n",
    "2) game_api2.py\n",
    "\n",
    "In the game_api. py file, we used flask as our primary tool to enable web api services. Once an event was generated through Apache Bench, the flask app captured the event contents and data producer ID and sent it to Kafka. In the api, we defined several @app.route functions to record different event types and contents instead of piping all features together. \n",
    "\n",
    "3) filtered_writes2.py\n",
    "\n",
    "This file basically takes care of writing events from Kafka to HDFS. In our implantation, we chose to call every event separately and write each event to hdfs by separating raw events, processing and extracting those events into parquet files. We used @udf for each event. These are user defined functions that run repeatedly in the pipeline, and we use the tag udf to let the Spark executor know about the function we are running. We took the raw events and casted our values as strings for easier data processing. Finally, we loaded the data into json files as we could not control the structure of the data, however; using json makes it easier for Spark to interpret the data.\n",
    "\n",
    "# Results and Analysis\n",
    "\n",
    "The first business query that was conducted was to see if there was a difference in the mean number of hours played in a given month between overall players and players in the month prior to closing their account. Based on these queries the answer appears to be yes, with players having a mean play time of 10.55 hours in the month prior to closing their account while the average play time among all active players was 14.17 hours. Based on these findings, we would advise the company to design player incentives to attempt to keep players at above 11 hours per week and have a target play time for players at around 14 hours. Examples of how this could be done include in-game items based on hours played, more content, or streak incentives where players who play for more than a set number of days in a row are rewarded with certain bonuses. The idea is that players who play less often in a given month are more likely to lose interest and close their accounts causing a decrease in expected revenue for our client.\n",
    "\n",
    "The second business query we attempted to answer was the relationship between hours played in a given month and number of friends referred in the same month. To do this, first we isolated the months in which users’ accounts were not closed. Then we summed the number of friends referred in those months and the number of hours played in those months. The totals we found were approximately 13,938 hours played over the survey period by active accounts and 2,324 friends referred in the same period. This gives an approximate relationship of 5.99 or roughly 6 hours of play time per friend request. Based on this query, we would recommend our client to even further pursue business plans of action that target increasing user engagement and play time as there appears to be a relationship between hours played and friends referred aka increasing the playter base and potential revenue streams.\n",
    "\n",
    "The third query was what policies could be put in place to cause more players to turn into paid subscribers. It appears that the mean hours played in a month prior to subscribing was 12.01. As we know the average in the population as a whole was 14.17 hours, this is good news as we know subscribers must play far more than non-subscribers. We also have now determined a link between more hours being less likely to close one’s account and that more hours is possibly conducive to referring more friends. In aggregate, it is possible to place the players of the game into three potential categories based upon these findings: Near-Close, Near-Sub, Average Sub Revenue Generator. The goal is to get players to the third category as these players pay subscription fees, refer friends, and in all, generate the most revenue for the firm. Players in the Near Close and Near Sub categories should be flagged as priorities for targeted incentives to increase their play time and engagement. The rough boundaries are between the three averages for these groups, at 10, 12, and 14 roughly respectively. It does seem that most of the business’s profits are centered around increasing players’ time in game and encouraging them to become subscribers or refer friends.\n",
    "\n"
   ]
  },
  {
   "cell_type": "markdown",
   "metadata": {},
   "source": [
    "# Docker Compose"
   ]
  },
  {
   "cell_type": "code",
   "execution_count": 17,
   "metadata": {},
   "outputs": [
    {
     "name": "stdout",
     "output_type": "stream",
     "text": [
      "full-stack_mids_1 is up-to-date\n",
      "full-stack_cloudera_1 is up-to-date\n",
      "full-stack_zookeeper_1 is up-to-date\n",
      "full-stack_spark_1 is up-to-date\n",
      "full-stack_kafka_1 is up-to-date\n"
     ]
    }
   ],
   "source": [
    "! docker-compose up -d"
   ]
  },
  {
   "cell_type": "markdown",
   "metadata": {},
   "source": [
    "# Create Kafka Topic"
   ]
  },
  {
   "cell_type": "code",
   "execution_count": 18,
   "metadata": {},
   "outputs": [
    {
     "name": "stdout",
     "output_type": "stream",
     "text": [
      "Created topic events.\n"
     ]
    }
   ],
   "source": [
    "! docker-compose exec kafka kafka-topics --create --topic events --partitions 1 --replication-factor 1 --if-not-exists --zookeeper zookeeper:32181"
   ]
  },
  {
   "cell_type": "markdown",
   "metadata": {},
   "source": [
    "# Call Game API"
   ]
  },
  {
   "cell_type": "code",
   "execution_count": 5,
   "metadata": {
    "collapsed": true,
    "jupyter": {
     "outputs_hidden": true
    }
   },
   "outputs": [],
   "source": [
    "# run this in a new bash terminal to call game_api\n",
    "\n",
    "docker-compose exec mids env FLASK_APP=/w205/full-stack/game_api2.py flask run --host 0.0.0.0"
   ]
  },
  {
   "cell_type": "markdown",
   "metadata": {},
   "source": [
    "# Launch Kafka Activity Monitor"
   ]
  },
  {
   "cell_type": "code",
   "execution_count": 33,
   "metadata": {},
   "outputs": [
    {
     "name": "stdout",
     "output_type": "stream",
     "text": [
      "^C\n"
     ]
    }
   ],
   "source": [
    "# run this in a second new bash terminal to call kafka \n",
    "\n",
    "docker-compose exec mids kafkacat -C -b kafka:29092 -t events -o beginning"
   ]
  },
  {
   "cell_type": "markdown",
   "metadata": {},
   "source": [
    "# Pipe User Activity Data to Kafka Topic Through Apache Bench"
   ]
  },
  {
   "cell_type": "code",
   "execution_count": 19,
   "metadata": {},
   "outputs": [
    {
     "name": "stdout",
     "output_type": "stream",
     "text": [
      "This is ApacheBench, Version 2.3 <$Revision: 1706008 $>\n",
      "Copyright 1996 Adam Twiss, Zeus Technology Ltd, http://www.zeustech.net/\n",
      "Licensed to The Apache Software Foundation, http://www.apache.org/\n",
      "\n",
      "Benchmarking localhost (be patient).....done\n",
      "\n",
      "\n",
      "Server Software:        Werkzeug/0.14.1\n",
      "Server Hostname:        localhost\n",
      "Server Port:            5000\n",
      "\n",
      "Document Path:          /play_hrs/10.69179855\n",
      "Document Length:        14 bytes\n",
      "\n",
      "Concurrency Level:      1\n",
      "Time taken for tests:   0.004 seconds\n",
      "Complete requests:      1\n",
      "Failed requests:        0\n",
      "Total transferred:      169 bytes\n",
      "HTML transferred:       14 bytes\n",
      "Requests per second:    252.33 [#/sec] (mean)\n",
      "Time per request:       3.963 [ms] (mean)\n",
      "Time per request:       3.963 [ms] (mean, across all concurrent requests)\n",
      "Transfer rate:          41.64 [Kbytes/sec] received\n",
      "\n",
      "Connection Times (ms)\n",
      "              min  mean[+/-sd] median   max\n",
      "Connect:        0    0   0.0      0       0\n",
      "Processing:     4    4   0.0      4       4\n",
      "Waiting:        3    3   0.0      3       3\n",
      "Total:          4    4   0.0      4       4\n",
      "This is ApacheBench, Version 2.3 <$Revision: 1706008 $>\n",
      "Copyright 1996 Adam Twiss, Zeus Technology Ltd, http://www.zeustech.net/\n",
      "Licensed to The Apache Software Foundation, http://www.apache.org/\n",
      "\n",
      "Benchmarking localhost (be patient).....done\n",
      "\n",
      "\n",
      "Server Software:        Werkzeug/0.14.1\n",
      "Server Hostname:        localhost\n",
      "Server Port:            5000\n",
      "\n",
      "Document Path:          /ref_count/0\n",
      "Document Length:        18 bytes\n",
      "\n",
      "Concurrency Level:      1\n",
      "Time taken for tests:   0.004 seconds\n",
      "Complete requests:      1\n",
      "Failed requests:        0\n",
      "Total transferred:      173 bytes\n",
      "HTML transferred:       18 bytes\n",
      "Requests per second:    277.93 [#/sec] (mean)\n",
      "Time per request:       3.598 [ms] (mean)\n",
      "Time per request:       3.598 [ms] (mean, across all concurrent requests)\n",
      "Transfer rate:          46.96 [Kbytes/sec] received\n",
      "\n",
      "Connection Times (ms)\n",
      "              min  mean[+/-sd] median   max\n",
      "Connect:        0    0   0.0      0       0\n",
      "Processing:     3    3   0.0      3       3\n",
      "Waiting:        3    3   0.0      3       3\n",
      "Total:          4    4   0.0      4       4\n",
      "This is ApacheBench, Version 2.3 <$Revision: 1706008 $>\n",
      "Copyright 1996 Adam Twiss, Zeus Technology Ltd, http://www.zeustech.net/\n",
      "Licensed to The Apache Software Foundation, http://www.apache.org/\n",
      "\n",
      "Benchmarking localhost (be patient).....done\n",
      "\n",
      "\n",
      "Server Software:        Werkzeug/0.14.1\n",
      "Server Hostname:        localhost\n",
      "Server Port:            5000\n",
      "\n",
      "Document Path:          /sub_count/0\n",
      "Document Length:        18 bytes\n",
      "\n",
      "Concurrency Level:      1\n",
      "Time taken for tests:   0.002 seconds\n",
      "Complete requests:      1\n",
      "Failed requests:        0\n",
      "Total transferred:      173 bytes\n",
      "HTML transferred:       18 bytes\n",
      "Requests per second:    412.54 [#/sec] (mean)\n",
      "Time per request:       2.424 [ms] (mean)\n",
      "Time per request:       2.424 [ms] (mean, across all concurrent requests)\n",
      "Transfer rate:          69.70 [Kbytes/sec] received\n",
      "\n",
      "Connection Times (ms)\n",
      "              min  mean[+/-sd] median   max\n",
      "Connect:        0    0   0.0      0       0\n",
      "Processing:     2    2   0.0      2       2\n",
      "Waiting:        2    2   0.0      2       2\n",
      "Total:          2    2   0.0      2       2\n",
      "This is ApacheBench, Version 2.3 <$Revision: 1706008 $>\n",
      "Copyright 1996 Adam Twiss, Zeus Technology Ltd, http://www.zeustech.net/\n",
      "Licensed to The Apache Software Foundation, http://www.apache.org/\n",
      "\n",
      "Benchmarking localhost (be patient).....done\n",
      "\n",
      "\n",
      "Server Software:        Werkzeug/0.14.1\n",
      "Server Hostname:        localhost\n",
      "Server Port:            5000\n",
      "\n",
      "Document Path:          /money_paid/9.242057157\n",
      "Document Length:        25 bytes\n",
      "\n",
      "Concurrency Level:      1\n",
      "Time taken for tests:   0.004 seconds\n",
      "Complete requests:      1\n",
      "Failed requests:        0\n",
      "Total transferred:      180 bytes\n",
      "HTML transferred:       25 bytes\n",
      "Requests per second:    276.09 [#/sec] (mean)\n",
      "Time per request:       3.622 [ms] (mean)\n",
      "Time per request:       3.622 [ms] (mean, across all concurrent requests)\n",
      "Transfer rate:          48.53 [Kbytes/sec] received\n",
      "\n",
      "Connection Times (ms)\n",
      "              min  mean[+/-sd] median   max\n",
      "Connect:        0    0   0.0      0       0\n",
      "Processing:     3    3   0.0      3       3\n",
      "Waiting:        2    2   0.0      2       2\n",
      "Total:          4    4   0.0      4       4\n",
      "This is ApacheBench, Version 2.3 <$Revision: 1706008 $>\n",
      "Copyright 1996 Adam Twiss, Zeus Technology Ltd, http://www.zeustech.net/\n",
      "Licensed to The Apache Software Foundation, http://www.apache.org/\n",
      "\n",
      "Benchmarking localhost (be patient).....done\n",
      "\n",
      "\n",
      "Server Software:        Werkzeug/0.14.1\n",
      "Server Hostname:        localhost\n",
      "Server Port:            5000\n",
      "\n",
      "Document Path:          /account_open/1\n",
      "Document Length:        27 bytes\n",
      "\n",
      "Concurrency Level:      1\n",
      "Time taken for tests:   0.003 seconds\n",
      "Complete requests:      1\n",
      "Failed requests:        0\n",
      "Total transferred:      182 bytes\n",
      "HTML transferred:       27 bytes\n",
      "Requests per second:    300.12 [#/sec] (mean)\n",
      "Time per request:       3.332 [ms] (mean)\n",
      "Time per request:       3.332 [ms] (mean, across all concurrent requests)\n",
      "Transfer rate:          53.34 [Kbytes/sec] received\n",
      "\n",
      "Connection Times (ms)\n",
      "              min  mean[+/-sd] median   max\n",
      "Connect:        0    0   0.0      0       0\n",
      "Processing:     3    3   0.0      3       3\n",
      "Waiting:        3    3   0.0      3       3\n",
      "Total:          3    3   0.0      3       3\n",
      "This is ApacheBench, Version 2.3 <$Revision: 1706008 $>\n",
      "Copyright 1996 Adam Twiss, Zeus Technology Ltd, http://www.zeustech.net/\n",
      "Licensed to The Apache Software Foundation, http://www.apache.org/\n",
      "\n",
      "Benchmarking localhost (be patient).....done\n",
      "\n",
      "\n",
      "Server Software:        Werkzeug/0.14.1\n",
      "Server Hostname:        localhost\n",
      "Server Port:            5000\n",
      "\n",
      "Document Path:          /purchase_sword/0\n",
      "Document Length:        17 bytes\n",
      "\n",
      "Concurrency Level:      1\n",
      "Time taken for tests:   0.004 seconds\n",
      "Complete requests:      1\n",
      "Failed requests:        0\n",
      "Total transferred:      172 bytes\n",
      "HTML transferred:       17 bytes\n",
      "Requests per second:    261.92 [#/sec] (mean)\n",
      "Time per request:       3.818 [ms] (mean)\n",
      "Time per request:       3.818 [ms] (mean, across all concurrent requests)\n",
      "Transfer rate:          43.99 [Kbytes/sec] received\n",
      "\n",
      "Connection Times (ms)\n",
      "              min  mean[+/-sd] median   max\n",
      "Connect:        0    0   0.0      0       0\n",
      "Processing:     3    3   0.0      3       3\n",
      "Waiting:        2    2   0.0      2       2\n",
      "Total:          4    4   0.0      4       4\n",
      "This is ApacheBench, Version 2.3 <$Revision: 1706008 $>\n",
      "Copyright 1996 Adam Twiss, Zeus Technology Ltd, http://www.zeustech.net/\n",
      "Licensed to The Apache Software Foundation, http://www.apache.org/\n",
      "\n",
      "Benchmarking localhost (be patient).....done\n",
      "\n",
      "\n",
      "Server Software:        Werkzeug/0.14.1\n",
      "Server Hostname:        localhost\n",
      "Server Port:            5000\n",
      "\n",
      "Document Path:          /join_guild/0\n",
      "Document Length:        25 bytes\n",
      "\n",
      "Concurrency Level:      1\n",
      "Time taken for tests:   0.003 seconds\n",
      "Complete requests:      1\n",
      "Failed requests:        0\n",
      "Total transferred:      180 bytes\n",
      "HTML transferred:       25 bytes\n",
      "Requests per second:    374.25 [#/sec] (mean)\n",
      "Time per request:       2.672 [ms] (mean)\n",
      "Time per request:       2.672 [ms] (mean, across all concurrent requests)\n",
      "Transfer rate:          65.79 [Kbytes/sec] received\n",
      "\n",
      "Connection Times (ms)\n",
      "              min  mean[+/-sd] median   max\n",
      "Connect:        0    0   0.0      0       0\n",
      "Processing:     2    2   0.0      2       2\n",
      "Waiting:        2    2   0.0      2       2\n",
      "Total:          3    3   0.0      3       3\n",
      "This is ApacheBench, Version 2.3 <$Revision: 1706008 $>\n",
      "Copyright 1996 Adam Twiss, Zeus Technology Ltd, http://www.zeustech.net/\n",
      "Licensed to The Apache Software Foundation, http://www.apache.org/\n",
      "\n",
      "Benchmarking localhost (be patient).....done\n",
      "\n",
      "\n",
      "Server Software:        Werkzeug/0.14.1\n",
      "Server Hostname:        localhost\n",
      "Server Port:            5000\n",
      "\n",
      "Document Path:          /sw_a_g/0\n",
      "Document Length:        19 bytes\n",
      "\n",
      "Concurrency Level:      1\n",
      "Time taken for tests:   0.005 seconds\n",
      "Complete requests:      1\n",
      "Failed requests:        0\n",
      "Total transferred:      174 bytes\n",
      "HTML transferred:       19 bytes\n",
      "Requests per second:    197.47 [#/sec] (mean)\n",
      "Time per request:       5.064 [ms] (mean)\n",
      "Time per request:       5.064 [ms] (mean, across all concurrent requests)\n",
      "Transfer rate:          33.55 [Kbytes/sec] received\n",
      "\n",
      "Connection Times (ms)\n",
      "              min  mean[+/-sd] median   max\n",
      "Connect:        0    0   0.0      0       0\n",
      "Processing:     5    5   0.0      5       5\n",
      "Waiting:        5    5   0.0      5       5\n",
      "Total:          5    5   0.0      5       5\n"
     ]
    }
   ],
   "source": [
    "from pandas import DataFrame, read_csv\n",
    "import pandas as pd \n",
    "\n",
    "file = r'sample_data_v7.csv'\n",
    "df = pd.read_csv(file)\n",
    "\n",
    "#for i in range(0,df.shape[0]): # for the entire data set\n",
    "for i in range(0,1): # for testing\n",
    "    \n",
    "        id = str(df.iloc[i, 1])\n",
    "        month = str(df.iloc[i, 2])\n",
    "        hrs = str(df.iloc[i, 3])\n",
    "        ref = str(df.iloc[i, 4])\n",
    "        sub_sub = str(df.iloc[i, 5])\n",
    "        money = str(df.iloc[i, 6])\n",
    "        acctopen = str(df.iloc[i, 7])\n",
    "        sword = str(df.iloc[i, 8])\n",
    "        guild = str(df.iloc[i, 9])\n",
    "        swag = str(df.iloc[i, 10])\n",
    "        \n",
    "        # the host name is composed of user id and month\n",
    "        ! docker-compose exec mids ab -n 1 -H \"Host: $id $month\" http://localhost:5000/play_hrs/\"$hrs\"\n",
    "        ! docker-compose exec mids ab -n 1 -H \"Host: $id $month\" http://localhost:5000/ref_count/\"$ref\"\n",
    "        ! docker-compose exec mids ab -n 1 -H \"Host: $id $month\" http://localhost:5000/sub_count/\"$sub_sub\"\n",
    "        ! docker-compose exec mids ab -n 1 -H \"Host: $id $month\" http://localhost:5000/money_paid/\"$money\"\n",
    "        ! docker-compose exec mids ab -n 1 -H \"Host: $id $month\" http://localhost:5000/account_open/\"$acctopen\"\n",
    "        ! docker-compose exec mids ab -n 1 -H \"Host: $id $month\" http://localhost:5000/purchase_sword/\"$sword\"\n",
    "        ! docker-compose exec mids ab -n 1 -H \"Host: $id $month\" http://localhost:5000/join_guild/\"$guild\"\n",
    "        ! docker-compose exec mids ab -n 1 -H \"Host: $id $month\" http://localhost:5000/sw_a_g/\"$swag\"\n",
    "    \n",
    "    "
   ]
  },
  {
   "cell_type": "markdown",
   "metadata": {},
   "source": [
    "# Filter Events From Kafka and Write to HDFS as Parque Files"
   ]
  },
  {
   "cell_type": "code",
   "execution_count": null,
   "metadata": {},
   "outputs": [],
   "source": [
    "! docker-compose exec spark spark-submit /w205/full-stack/filtered_writes2.py"
   ]
  },
  {
   "cell_type": "markdown",
   "metadata": {},
   "source": [
    "# Check Saved Parque Files"
   ]
  },
  {
   "cell_type": "code",
   "execution_count": 8,
   "metadata": {},
   "outputs": [
    {
     "name": "stdout",
     "output_type": "stream",
     "text": [
      "Found 2 items\n",
      "-rw-r--r--   1 root supergroup          0 2021-04-10 20:27 /tmp/play_hrs/_SUCCESS\n",
      "-rw-r--r--   1 root supergroup       1572 2021-04-10 20:27 /tmp/play_hrs/part-00000-1c1e7729-92b7-4bc3-b504-34d2b97ac3da-c000.snappy.parquet\n"
     ]
    }
   ],
   "source": [
    "! docker-compose exec cloudera hadoop fs -ls /tmp/play_hrs/"
   ]
  },
  {
   "cell_type": "code",
   "execution_count": 33,
   "metadata": {},
   "outputs": [
    {
     "name": "stdout",
     "output_type": "stream",
     "text": [
      "Found 2 items\n",
      "-rw-r--r--   1 root supergroup          0 2021-04-06 03:42 /tmp/ref_count/_SUCCESS\n",
      "-rw-r--r--   1 root supergroup       1746 2021-04-06 03:42 /tmp/ref_count/part-00000-52638758-a648-4c27-aec6-7717bc255806-c000.snappy.parquet\n"
     ]
    }
   ],
   "source": [
    "! docker-compose exec cloudera hadoop fs -ls /tmp/ref_count/"
   ]
  },
  {
   "cell_type": "code",
   "execution_count": 34,
   "metadata": {},
   "outputs": [
    {
     "name": "stdout",
     "output_type": "stream",
     "text": [
      "Found 2 items\n",
      "-rw-r--r--   1 root supergroup          0 2021-04-06 03:42 /tmp/purchase_sword/_SUCCESS\n",
      "-rw-r--r--   1 root supergroup       1723 2021-04-06 03:42 /tmp/purchase_sword/part-00000-cef46c4a-7b40-4213-b3d3-8a663b32edb5-c000.snappy.parquet\n"
     ]
    }
   ],
   "source": [
    "! docker-compose exec cloudera hadoop fs -ls /tmp/purchase_sword/"
   ]
  },
  {
   "cell_type": "code",
   "execution_count": 35,
   "metadata": {},
   "outputs": [
    {
     "name": "stdout",
     "output_type": "stream",
     "text": [
      "Found 2 items\n",
      "-rw-r--r--   1 root supergroup          0 2021-04-06 03:43 /tmp/sw_a_g/_SUCCESS\n",
      "-rw-r--r--   1 root supergroup       1704 2021-04-06 03:43 /tmp/sw_a_g/part-00000-ef28ceec-aedf-4a40-94af-ad5f52b003b0-c000.snappy.parquet\n"
     ]
    }
   ],
   "source": [
    "! docker-compose exec cloudera hadoop fs -ls /tmp/sw_a_g/"
   ]
  },
  {
   "cell_type": "code",
   "execution_count": 36,
   "metadata": {},
   "outputs": [
    {
     "name": "stdout",
     "output_type": "stream",
     "text": [
      "Found 2 items\n",
      "-rw-r--r--   1 root supergroup          0 2021-04-06 03:42 /tmp/join_guild/_SUCCESS\n",
      "-rw-r--r--   1 root supergroup       1718 2021-04-06 03:42 /tmp/join_guild/part-00000-6ca368c9-4e2c-4c58-896e-26dad9ba2522-c000.snappy.parquet\n"
     ]
    }
   ],
   "source": [
    "! docker-compose exec cloudera hadoop fs -ls /tmp/join_guild/"
   ]
  },
  {
   "cell_type": "code",
   "execution_count": 37,
   "metadata": {},
   "outputs": [
    {
     "name": "stdout",
     "output_type": "stream",
     "text": [
      "Found 2 items\n",
      "-rw-r--r--   1 root supergroup          0 2021-04-06 03:42 /tmp/account_open/_SUCCESS\n",
      "-rw-r--r--   1 root supergroup       1729 2021-04-06 03:42 /tmp/account_open/part-00000-2dba2735-2798-49ea-afb9-247a6e4b71f9-c000.snappy.parquet\n"
     ]
    }
   ],
   "source": [
    "! docker-compose exec cloudera hadoop fs -ls /tmp/account_open/"
   ]
  },
  {
   "cell_type": "code",
   "execution_count": 9,
   "metadata": {},
   "outputs": [
    {
     "name": "stdout",
     "output_type": "stream",
     "text": [
      "Found 2 items\n",
      "-rw-r--r--   1 root supergroup          0 2021-04-10 20:28 /tmp/money_paid/_SUCCESS\n",
      "-rw-r--r--   1 root supergroup       1608 2021-04-10 20:28 /tmp/money_paid/part-00000-ce9c3ce9-50b8-4b5d-949b-595c39c767af-c000.snappy.parquet\n"
     ]
    }
   ],
   "source": [
    "! docker-compose exec cloudera hadoop fs -ls /tmp/money_paid/"
   ]
  },
  {
   "cell_type": "markdown",
   "metadata": {},
   "source": [
    "# Qurey Data From Spark"
   ]
  },
  {
   "cell_type": "code",
   "execution_count": 11,
   "metadata": {},
   "outputs": [
    {
     "name": "stdout",
     "output_type": "stream",
     "text": [
      "IP is: 35.230.20.101\n"
     ]
    }
   ],
   "source": [
    "# Find Local IP address\n",
    "\n",
    "from requests import get\n",
    "ip = get('https://api.ipify.org').text\n",
    "print ('IP is:', ip)"
   ]
  },
  {
   "cell_type": "code",
   "execution_count": 12,
   "metadata": {},
   "outputs": [
    {
     "name": "stdout",
     "output_type": "stream",
     "text": [
      "\u001b[32m[I 20:31:10.032 NotebookApp]\u001b(B\u001b[m The port 8888 is already in use, trying another port.\n",
      "\u001b[32m[I 20:31:10.041 NotebookApp]\u001b(B\u001b[m Serving notebooks from local directory: /w205\n",
      "\u001b[32m[I 20:31:10.041 NotebookApp]\u001b(B\u001b[m 0 active kernels \n",
      "\u001b[32m[I 20:31:10.041 NotebookApp]\u001b(B\u001b[m The Jupyter Notebook is running at: http://0.0.0.0:8889/?token=80e89b04740dca18f7bf86b7426c3e2e51574e8ef6b39efd\n",
      "\u001b[32m[I 20:31:10.041 NotebookApp]\u001b(B\u001b[m Use Control-C to stop this server and shut down all kernels (twice to skip confirmation).\n",
      "[C 20:31:10.042 NotebookApp] \n",
      "    \n",
      "    Copy/paste this URL into your browser when you connect for the first time,\n",
      "    to login with a token:\n",
      "        http://0.0.0.0:8889/?token=80e89b04740dca18f7bf86b7426c3e2e51574e8ef6b39efd\n",
      "^C\n",
      "\u001b[32m[I 20:32:14.991 NotebookApp]\u001b(B\u001b[m interrupted\n",
      "Serving notebooks from local directory: /w205\n",
      "0 active kernels \n",
      "The Jupyter Notebook is running at: http://0.0.0.0:8889/?token=80e89b04740dca18f7bf86b7426c3e2e51574e8ef6b39efd\n",
      "Shutdown this notebook server (y/[n])? resuming operation...\n"
     ]
    }
   ],
   "source": [
    "#instantiate PySpark in the terminal\n",
    "\n",
    "! docker-compose exec spark env PYSPARK_DRIVER_PYTHON=jupyter PYSPARK_DRIVER_PYTHON_OPTS='notebook --no-browser --port 8888 --ip 0.0.0.0 --allow-root --notebook-dir=/w205/' pyspark"
   ]
  },
  {
   "cell_type": "markdown",
   "metadata": {},
   "source": [
    "# Query 1"
   ]
  },
  {
   "cell_type": "code",
   "execution_count": 87,
   "metadata": {},
   "outputs": [
    {
     "name": "stdout",
     "output_type": "stream",
     "text": [
      "+------+--------+---------------+----------+-----------------------+-----------+\n",
      "|Accept|Host    |User-Agent     |event_type|timestamp              |total_hrs  |\n",
      "+------+--------+---------------+----------+-----------------------+-----------+\n",
      "|*/*   |100002 0|ApacheBench/2.3|play_hrs  |2021-04-10 21:18:16.709|10.69179855|\n",
      "+------+--------+---------------+----------+-----------------------+-----------+\n",
      "\n",
      "+------+--------+---------------+------------+------------+-----------------------+\n",
      "|Accept|Host    |User-Agent     |account_open|event_type  |timestamp              |\n",
      "+------+--------+---------------+------------+------------+-----------------------+\n",
      "|*/*   |100002 0|ApacheBench/2.3|1           |account_open|2021-04-10 21:18:19.087|\n",
      "+------+--------+---------------+------------+------------+-----------------------+\n",
      "\n",
      "+--------+------+---------------+----------+--------------------+-----------+------+---------------+------------+------------+--------------------+\n",
      "|    Host|Accept|     User-Agent|event_type|           timestamp|  total_hrs|Accept|     User-Agent|account_open|  event_type|           timestamp|\n",
      "+--------+------+---------------+----------+--------------------+-----------+------+---------------+------------+------------+--------------------+\n",
      "|100002 0|   */*|ApacheBench/2.3|  play_hrs|2021-04-10 21:18:...|10.69179855|   */*|ApacheBench/2.3|           1|account_open|2021-04-10 21:18:...|\n",
      "+--------+------+---------------+----------+--------------------+-----------+------+---------------+------------+------------+--------------------+\n",
      "\n"
     ]
    }
   ],
   "source": [
    "#Query 1, we need hours played and account_open\n",
    "from pyspark.sql.functions import col\n",
    "\n",
    "#create temp tables for both variables\n",
    "hours = spark.read.parquet('/tmp/play_hrs')\n",
    "hours.registerTempTable('hours')\n",
    "hours.show(truncate=False)\n",
    "\n",
    "acct_open = spark.read.parquet('/tmp/account_open')\n",
    "acct_open.registerTempTable('acct_open')\n",
    "acct_open.show(truncate=False)\n",
    "#now join tables on Player ID\n",
    "\n",
    "\n",
    "results = hours.join(acct_open, 'Host')\n",
    "results.show()\n",
    "\n",
    "\n",
    "\n",
    "# #export to df for analysis\n",
    "df_q1 = results.toPandas()\n"
   ]
  },
  {
   "cell_type": "markdown",
   "metadata": {},
   "source": [
    "# Query 2"
   ]
  },
  {
   "cell_type": "code",
   "execution_count": 88,
   "metadata": {},
   "outputs": [
    {
     "name": "stdout",
     "output_type": "stream",
     "text": [
      "+--------+------+---------------+----------+--------------------+-----------+------+---------------+------------+------------+--------------------+------+---------------+----------+--------------------+---------------+\n",
      "|    Host|Accept|     User-Agent|event_type|           timestamp|  total_hrs|Accept|     User-Agent|account_open|  event_type|           timestamp|Accept|     User-Agent|event_type|           timestamp|total_ref_count|\n",
      "+--------+------+---------------+----------+--------------------+-----------+------+---------------+------------+------------+--------------------+------+---------------+----------+--------------------+---------------+\n",
      "|100002 0|   */*|ApacheBench/2.3|  play_hrs|2021-04-10 21:18:...|10.69179855|   */*|ApacheBench/2.3|           1|account_open|2021-04-10 21:18:...|   */*|ApacheBench/2.3| ref_count|2021-04-10 21:18:...|              0|\n",
      "+--------+------+---------------+----------+--------------------+-----------+------+---------------+------------+------------+--------------------+------+---------------+----------+--------------------+---------------+\n",
      "\n"
     ]
    }
   ],
   "source": [
    "#Query 2, need friend referrals and to join with play time\n",
    "\n",
    "#create temp table \n",
    "ref = spark.read.parquet('/tmp/ref_count')\n",
    "ref.registerTempTable('ref')\n",
    "\n",
    "#inner join\n",
    "results = results.join(ref, 'Host')\n",
    "results.show()\n",
    "\n",
    "# #export to df for analysis\n",
    "df_q2 = results.toPandas()"
   ]
  },
  {
   "cell_type": "markdown",
   "metadata": {},
   "source": [
    "# Query 3"
   ]
  },
  {
   "cell_type": "code",
   "execution_count": 89,
   "metadata": {},
   "outputs": [
    {
     "name": "stdout",
     "output_type": "stream",
     "text": [
      "+--------+------+---------------+----------+--------------------+-----------+------+---------------+------------+------------+--------------------+------+---------------+----------+--------------------+---------------+------+---------------+----------+--------------------+---------+------+---------------+----------+-----------------+--------------------+\n",
      "|    Host|Accept|     User-Agent|event_type|           timestamp|  total_hrs|Accept|     User-Agent|account_open|  event_type|           timestamp|Accept|     User-Agent|event_type|           timestamp|total_ref_count|Accept|     User-Agent|event_type|           timestamp|total_sub|Accept|     User-Agent|event_type|money_paid_amount|           timestamp|\n",
      "+--------+------+---------------+----------+--------------------+-----------+------+---------------+------------+------------+--------------------+------+---------------+----------+--------------------+---------------+------+---------------+----------+--------------------+---------+------+---------------+----------+-----------------+--------------------+\n",
      "|100002 0|   */*|ApacheBench/2.3|  play_hrs|2021-04-10 21:18:...|10.69179855|   */*|ApacheBench/2.3|           1|account_open|2021-04-10 21:18:...|   */*|ApacheBench/2.3| ref_count|2021-04-10 21:18:...|              0|   */*|ApacheBench/2.3| sub_count|2021-04-10 21:18:...|        0|   */*|ApacheBench/2.3|money_paid|      9.242057157|2021-04-10 21:18:...|\n",
      "+--------+------+---------------+----------+--------------------+-----------+------+---------------+------------+------------+--------------------+------+---------------+----------+--------------------+---------------+------+---------------+----------+--------------------+---------+------+---------------+----------+-----------------+--------------------+\n",
      "\n"
     ]
    }
   ],
   "source": [
    "#Query 3, need money and subscriptions, will join to hrs_op_ref in case\n",
    "\n",
    "#create temp tables\n",
    "sub_sub = spark.read.parquet('/tmp/sub_count')\n",
    "sub_sub.registerTempTable('sub_sub')\n",
    "money = spark.read.parquet('/tmp/money_paid')\n",
    "money.registerTempTable('money')\n",
    "#join all 3 tables\n",
    "results = results.join(sub_sub, 'Host')\n",
    "results = results.join(money, 'Host')\n",
    "results.show()\n",
    "\n",
    "#export to df for analysis\n",
    "results = results.select('Host','account_open','money_paid_amount','total_sub','total_hrs','total_ref_count' )\n",
    "\n",
    "df_final = results.toPandas()\n",
    "#export the whole thing to csv for analysis\n",
    "df_final.to_csv('sample_data_v9.csv')"
   ]
  },
  {
   "cell_type": "markdown",
   "metadata": {},
   "source": [
    "# Query using Pandas"
   ]
  },
  {
   "cell_type": "code",
   "execution_count": 93,
   "metadata": {},
   "outputs": [
    {
     "data": {
      "text/html": [
       "<div>\n",
       "<style>\n",
       "    .dataframe thead tr:only-child th {\n",
       "        text-align: right;\n",
       "    }\n",
       "\n",
       "    .dataframe thead th {\n",
       "        text-align: left;\n",
       "    }\n",
       "\n",
       "    .dataframe tbody tr th {\n",
       "        vertical-align: top;\n",
       "    }\n",
       "</style>\n",
       "<table border=\"1\" class=\"dataframe\">\n",
       "  <thead>\n",
       "    <tr style=\"text-align: right;\">\n",
       "      <th></th>\n",
       "      <th>Unnamed: 0</th>\n",
       "      <th>id</th>\n",
       "      <th>month</th>\n",
       "      <th>mon_hrs_played</th>\n",
       "      <th>mon_fr_ref</th>\n",
       "      <th>sub_sub</th>\n",
       "      <th>money_paid</th>\n",
       "      <th>acct_open</th>\n",
       "      <th>sword</th>\n",
       "      <th>guild</th>\n",
       "      <th>sw_a_g</th>\n",
       "    </tr>\n",
       "  </thead>\n",
       "  <tbody>\n",
       "    <tr>\n",
       "      <th>0</th>\n",
       "      <td>1</td>\n",
       "      <td>100002</td>\n",
       "      <td>0</td>\n",
       "      <td>10.691799</td>\n",
       "      <td>0</td>\n",
       "      <td>0</td>\n",
       "      <td>9.242057</td>\n",
       "      <td>1</td>\n",
       "      <td>0</td>\n",
       "      <td>0</td>\n",
       "      <td>0</td>\n",
       "    </tr>\n",
       "    <tr>\n",
       "      <th>1</th>\n",
       "      <td>2</td>\n",
       "      <td>100002</td>\n",
       "      <td>1</td>\n",
       "      <td>12.035393</td>\n",
       "      <td>2</td>\n",
       "      <td>0</td>\n",
       "      <td>3.104142</td>\n",
       "      <td>1</td>\n",
       "      <td>0</td>\n",
       "      <td>0</td>\n",
       "      <td>0</td>\n",
       "    </tr>\n",
       "    <tr>\n",
       "      <th>2</th>\n",
       "      <td>3</td>\n",
       "      <td>100002</td>\n",
       "      <td>2</td>\n",
       "      <td>11.999392</td>\n",
       "      <td>1</td>\n",
       "      <td>1</td>\n",
       "      <td>14.831430</td>\n",
       "      <td>1</td>\n",
       "      <td>0</td>\n",
       "      <td>0</td>\n",
       "      <td>0</td>\n",
       "    </tr>\n",
       "    <tr>\n",
       "      <th>3</th>\n",
       "      <td>4</td>\n",
       "      <td>100002</td>\n",
       "      <td>3</td>\n",
       "      <td>14.795416</td>\n",
       "      <td>2</td>\n",
       "      <td>1</td>\n",
       "      <td>28.941018</td>\n",
       "      <td>1</td>\n",
       "      <td>1</td>\n",
       "      <td>0</td>\n",
       "      <td>0</td>\n",
       "    </tr>\n",
       "    <tr>\n",
       "      <th>4</th>\n",
       "      <td>5</td>\n",
       "      <td>100002</td>\n",
       "      <td>4</td>\n",
       "      <td>15.191799</td>\n",
       "      <td>2</td>\n",
       "      <td>1</td>\n",
       "      <td>28.874064</td>\n",
       "      <td>1</td>\n",
       "      <td>1</td>\n",
       "      <td>1</td>\n",
       "      <td>1</td>\n",
       "    </tr>\n",
       "    <tr>\n",
       "      <th>5</th>\n",
       "      <td>6</td>\n",
       "      <td>100002</td>\n",
       "      <td>5</td>\n",
       "      <td>17.271326</td>\n",
       "      <td>4</td>\n",
       "      <td>1</td>\n",
       "      <td>30.341962</td>\n",
       "      <td>1</td>\n",
       "      <td>1</td>\n",
       "      <td>1</td>\n",
       "      <td>1</td>\n",
       "    </tr>\n",
       "    <tr>\n",
       "      <th>6</th>\n",
       "      <td>7</td>\n",
       "      <td>100002</td>\n",
       "      <td>6</td>\n",
       "      <td>18.618972</td>\n",
       "      <td>4</td>\n",
       "      <td>1</td>\n",
       "      <td>29.633803</td>\n",
       "      <td>1</td>\n",
       "      <td>1</td>\n",
       "      <td>1</td>\n",
       "      <td>1</td>\n",
       "    </tr>\n",
       "    <tr>\n",
       "      <th>7</th>\n",
       "      <td>8</td>\n",
       "      <td>100002</td>\n",
       "      <td>7</td>\n",
       "      <td>19.264966</td>\n",
       "      <td>4</td>\n",
       "      <td>1</td>\n",
       "      <td>29.008141</td>\n",
       "      <td>1</td>\n",
       "      <td>1</td>\n",
       "      <td>1</td>\n",
       "      <td>1</td>\n",
       "    </tr>\n",
       "    <tr>\n",
       "      <th>8</th>\n",
       "      <td>9</td>\n",
       "      <td>100002</td>\n",
       "      <td>8</td>\n",
       "      <td>19.529923</td>\n",
       "      <td>5</td>\n",
       "      <td>1</td>\n",
       "      <td>29.563691</td>\n",
       "      <td>1</td>\n",
       "      <td>1</td>\n",
       "      <td>1</td>\n",
       "      <td>1</td>\n",
       "    </tr>\n",
       "    <tr>\n",
       "      <th>9</th>\n",
       "      <td>10</td>\n",
       "      <td>100002</td>\n",
       "      <td>9</td>\n",
       "      <td>19.631563</td>\n",
       "      <td>5</td>\n",
       "      <td>1</td>\n",
       "      <td>30.611133</td>\n",
       "      <td>1</td>\n",
       "      <td>1</td>\n",
       "      <td>1</td>\n",
       "      <td>1</td>\n",
       "    </tr>\n",
       "    <tr>\n",
       "      <th>10</th>\n",
       "      <td>11</td>\n",
       "      <td>100002</td>\n",
       "      <td>10</td>\n",
       "      <td>19.669545</td>\n",
       "      <td>4</td>\n",
       "      <td>1</td>\n",
       "      <td>29.140732</td>\n",
       "      <td>1</td>\n",
       "      <td>1</td>\n",
       "      <td>1</td>\n",
       "      <td>1</td>\n",
       "    </tr>\n",
       "    <tr>\n",
       "      <th>11</th>\n",
       "      <td>12</td>\n",
       "      <td>100003</td>\n",
       "      <td>0</td>\n",
       "      <td>9.288086</td>\n",
       "      <td>0</td>\n",
       "      <td>0</td>\n",
       "      <td>1.173920</td>\n",
       "      <td>1</td>\n",
       "      <td>0</td>\n",
       "      <td>0</td>\n",
       "      <td>0</td>\n",
       "    </tr>\n",
       "    <tr>\n",
       "      <th>12</th>\n",
       "      <td>13</td>\n",
       "      <td>100003</td>\n",
       "      <td>1</td>\n",
       "      <td>9.211013</td>\n",
       "      <td>0</td>\n",
       "      <td>1</td>\n",
       "      <td>5.724361</td>\n",
       "      <td>1</td>\n",
       "      <td>1</td>\n",
       "      <td>0</td>\n",
       "      <td>0</td>\n",
       "    </tr>\n",
       "    <tr>\n",
       "      <th>13</th>\n",
       "      <td>14</td>\n",
       "      <td>100003</td>\n",
       "      <td>2</td>\n",
       "      <td>8.204972</td>\n",
       "      <td>1</td>\n",
       "      <td>1</td>\n",
       "      <td>6.504712</td>\n",
       "      <td>1</td>\n",
       "      <td>1</td>\n",
       "      <td>0</td>\n",
       "      <td>0</td>\n",
       "    </tr>\n",
       "    <tr>\n",
       "      <th>14</th>\n",
       "      <td>15</td>\n",
       "      <td>100003</td>\n",
       "      <td>3</td>\n",
       "      <td>9.301269</td>\n",
       "      <td>1</td>\n",
       "      <td>1</td>\n",
       "      <td>6.063216</td>\n",
       "      <td>1</td>\n",
       "      <td>1</td>\n",
       "      <td>0</td>\n",
       "      <td>0</td>\n",
       "    </tr>\n",
       "    <tr>\n",
       "      <th>15</th>\n",
       "      <td>16</td>\n",
       "      <td>100003</td>\n",
       "      <td>4</td>\n",
       "      <td>11.267697</td>\n",
       "      <td>1</td>\n",
       "      <td>1</td>\n",
       "      <td>5.874942</td>\n",
       "      <td>1</td>\n",
       "      <td>1</td>\n",
       "      <td>0</td>\n",
       "      <td>0</td>\n",
       "    </tr>\n",
       "    <tr>\n",
       "      <th>16</th>\n",
       "      <td>17</td>\n",
       "      <td>100003</td>\n",
       "      <td>5</td>\n",
       "      <td>14.063966</td>\n",
       "      <td>2</td>\n",
       "      <td>1</td>\n",
       "      <td>20.764726</td>\n",
       "      <td>1</td>\n",
       "      <td>1</td>\n",
       "      <td>0</td>\n",
       "      <td>0</td>\n",
       "    </tr>\n",
       "    <tr>\n",
       "      <th>17</th>\n",
       "      <td>18</td>\n",
       "      <td>100003</td>\n",
       "      <td>6</td>\n",
       "      <td>17.215260</td>\n",
       "      <td>4</td>\n",
       "      <td>1</td>\n",
       "      <td>21.160258</td>\n",
       "      <td>1</td>\n",
       "      <td>1</td>\n",
       "      <td>1</td>\n",
       "      <td>1</td>\n",
       "    </tr>\n",
       "    <tr>\n",
       "      <th>18</th>\n",
       "      <td>19</td>\n",
       "      <td>100003</td>\n",
       "      <td>7</td>\n",
       "      <td>17.861253</td>\n",
       "      <td>4</td>\n",
       "      <td>1</td>\n",
       "      <td>21.471818</td>\n",
       "      <td>1</td>\n",
       "      <td>1</td>\n",
       "      <td>1</td>\n",
       "      <td>1</td>\n",
       "    </tr>\n",
       "    <tr>\n",
       "      <th>19</th>\n",
       "      <td>20</td>\n",
       "      <td>100003</td>\n",
       "      <td>8</td>\n",
       "      <td>18.126210</td>\n",
       "      <td>4</td>\n",
       "      <td>1</td>\n",
       "      <td>21.231019</td>\n",
       "      <td>1</td>\n",
       "      <td>1</td>\n",
       "      <td>1</td>\n",
       "      <td>1</td>\n",
       "    </tr>\n",
       "  </tbody>\n",
       "</table>\n",
       "</div>"
      ],
      "text/plain": [
       "    Unnamed: 0      id  month  mon_hrs_played  mon_fr_ref  sub_sub  \\\n",
       "0            1  100002      0       10.691799           0        0   \n",
       "1            2  100002      1       12.035393           2        0   \n",
       "2            3  100002      2       11.999392           1        1   \n",
       "3            4  100002      3       14.795416           2        1   \n",
       "4            5  100002      4       15.191799           2        1   \n",
       "5            6  100002      5       17.271326           4        1   \n",
       "6            7  100002      6       18.618972           4        1   \n",
       "7            8  100002      7       19.264966           4        1   \n",
       "8            9  100002      8       19.529923           5        1   \n",
       "9           10  100002      9       19.631563           5        1   \n",
       "10          11  100002     10       19.669545           4        1   \n",
       "11          12  100003      0        9.288086           0        0   \n",
       "12          13  100003      1        9.211013           0        1   \n",
       "13          14  100003      2        8.204972           1        1   \n",
       "14          15  100003      3        9.301269           1        1   \n",
       "15          16  100003      4       11.267697           1        1   \n",
       "16          17  100003      5       14.063966           2        1   \n",
       "17          18  100003      6       17.215260           4        1   \n",
       "18          19  100003      7       17.861253           4        1   \n",
       "19          20  100003      8       18.126210           4        1   \n",
       "\n",
       "    money_paid  acct_open  sword  guild  sw_a_g  \n",
       "0     9.242057          1      0      0       0  \n",
       "1     3.104142          1      0      0       0  \n",
       "2    14.831430          1      0      0       0  \n",
       "3    28.941018          1      1      0       0  \n",
       "4    28.874064          1      1      1       1  \n",
       "5    30.341962          1      1      1       1  \n",
       "6    29.633803          1      1      1       1  \n",
       "7    29.008141          1      1      1       1  \n",
       "8    29.563691          1      1      1       1  \n",
       "9    30.611133          1      1      1       1  \n",
       "10   29.140732          1      1      1       1  \n",
       "11    1.173920          1      0      0       0  \n",
       "12    5.724361          1      1      0       0  \n",
       "13    6.504712          1      1      0       0  \n",
       "14    6.063216          1      1      0       0  \n",
       "15    5.874942          1      1      0       0  \n",
       "16   20.764726          1      1      0       0  \n",
       "17   21.160258          1      1      1       1  \n",
       "18   21.471818          1      1      1       1  \n",
       "19   21.231019          1      1      1       1  "
      ]
     },
     "execution_count": 93,
     "metadata": {},
     "output_type": "execute_result"
    }
   ],
   "source": [
    "import csv\n",
    "import pandas as pd\n",
    "\n",
    "df = pd.read_csv('sample_data_v7.csv')\n",
    "df.head(20)"
   ]
  },
  {
   "cell_type": "code",
   "execution_count": 21,
   "metadata": {},
   "outputs": [
    {
     "name": "stdout",
     "output_type": "stream",
     "text": [
      "10.392797831717095\n"
     ]
    }
   ],
   "source": [
    "# Query 1\n",
    "\n",
    "temp_df = (df[df.acct_open == 1])\n",
    "\n",
    "temp_df_2 = temp_df.loc[temp_df.groupby('id').month.idxmax()]\n",
    "\n",
    "final_df = temp_df_2[temp_df_2.month != 10]\n",
    "\n",
    "hours_played_prior_to_close = final_df[\"mon_hrs_played\"].mean()\n",
    "\n",
    "print(hours_played_prior_to_close )"
   ]
  },
  {
   "cell_type": "code",
   "execution_count": 22,
   "metadata": {},
   "outputs": [
    {
     "name": "stdout",
     "output_type": "stream",
     "text": [
      "Aggreate number of hours played in survey period  12889318.55\n",
      "Aggreate number of friends referred in survey period  2135835\n",
      "Average number of hours played per friend referral  6.03\n"
     ]
    }
   ],
   "source": [
    "# Query 2\n",
    "\n",
    "x = sum(temp_df.mon_hrs_played)\n",
    "final_x = round(x, 2)\n",
    "print(\"Aggreate number of hours played in survey period \", final_x)\n",
    "y = sum(temp_df.mon_fr_ref)\n",
    "final_y = round(y, 2)\n",
    "print(\"Aggreate number of friends referred in survey period \", final_y)\n",
    "z=final_x/final_y\n",
    "final_z = round(z, 2)\n",
    "print(\"Average number of hours played per friend referral \", final_z)\n"
   ]
  },
  {
   "cell_type": "code",
   "execution_count": 97,
   "metadata": {},
   "outputs": [
    {
     "name": "stdout",
     "output_type": "stream",
     "text": [
      "12.014211312971515\n"
     ]
    }
   ],
   "source": [
    "# Query 3\n",
    "\n",
    "temp_df = (df[df.acct_open == 1])\n",
    "\n",
    "# temp_df_2 = temp_df.loc[temp_df.groupby('id').month.idxmax()]\n",
    "\n",
    "temp_df_3 = temp_df[temp_df.sub_sub == 0]\n",
    "\n",
    "temp_df_4 = temp_df_3.loc[temp_df_3.groupby('id').month.idxmax()]\n",
    "\n",
    "final_df = temp_df_4[temp_df_4.month != 10]\n",
    "\n",
    "hours_played_prior_to_close = final_df[\"mon_hrs_played\"].mean()\n",
    "\n",
    "print(hours_played_prior_to_close )"
   ]
  },
  {
   "cell_type": "code",
   "execution_count": null,
   "metadata": {
    "collapsed": true,
    "jupyter": {
     "outputs_hidden": true
    }
   },
   "outputs": [],
   "source": []
  },
  {
   "cell_type": "markdown",
   "metadata": {},
   "source": [
    "# Shut Down Docker Container"
   ]
  },
  {
   "cell_type": "code",
   "execution_count": 14,
   "metadata": {},
   "outputs": [
    {
     "name": "stdout",
     "output_type": "stream",
     "text": [
      "Removing network full-stack_default\n",
      "\u001b[33mWARNING\u001b[0m: Network full-stack_default not found.\n"
     ]
    }
   ],
   "source": [
    "! docker-compose down"
   ]
  }
 ],
 "metadata": {
  "environment": {
   "name": "common-cpu.m59",
   "type": "gcloud",
   "uri": "gcr.io/deeplearning-platform-release/base-cpu:m59"
  },
  "kernelspec": {
   "display_name": "Python 3",
   "language": "python",
   "name": "python3"
  },
  "language_info": {
   "codemirror_mode": {
    "name": "ipython",
    "version": 3
   },
   "file_extension": ".py",
   "mimetype": "text/x-python",
   "name": "python",
   "nbconvert_exporter": "python",
   "pygments_lexer": "ipython3",
   "version": "3.7.8"
  }
 },
 "nbformat": 4,
 "nbformat_minor": 4
}
