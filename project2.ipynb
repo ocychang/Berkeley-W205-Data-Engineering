{
 "cells": [
  {
   "cell_type": "markdown",
   "metadata": {},
   "source": [
    "## Load json file data using curl"
   ]
  },
  {
   "cell_type": "code",
   "execution_count": 11,
   "metadata": {},
   "outputs": [
    {
     "name": "stdout",
     "output_type": "stream",
     "text": [
      "  % Total    % Received % Xferd  Average Speed   Time    Time     Time  Current\n",
      "                                 Dload  Upload   Total   Spent    Left  Speed\n",
      "  0     0    0     0    0     0      0      0 --:--:-- --:--:-- --:--:--     0\n",
      "100 9096k  100 9096k    0     0  23.1M      0 --:--:-- --:--:-- --:--:-- 29.8M\n"
     ]
    }
   ],
   "source": [
    "! curl -L -o assessment-attempts-20180128-121051-nested.json https://goo.gl/ME6hjp"
   ]
  },
  {
   "cell_type": "markdown",
   "metadata": {},
   "source": [
    "## briefly check the content of the json file using jq pretty print"
   ]
  },
  {
   "cell_type": "code",
   "execution_count": 12,
   "metadata": {},
   "outputs": [
    {
     "name": "stdout",
     "output_type": "stream",
     "text": [
      "\u001b[1;39m{\n",
      "  \u001b[0m\u001b[34;1m\"keen_timestamp\"\u001b[0m\u001b[1;39m: \u001b[0m\u001b[0;32m\"1516717442.735266\"\u001b[0m\u001b[1;39m,\n",
      "  \u001b[0m\u001b[34;1m\"max_attempts\"\u001b[0m\u001b[1;39m: \u001b[0m\u001b[0;32m\"1.0\"\u001b[0m\u001b[1;39m,\n",
      "  \u001b[0m\u001b[34;1m\"started_at\"\u001b[0m\u001b[1;39m: \u001b[0m\u001b[0;32m\"2018-01-23T14:23:19.082Z\"\u001b[0m\u001b[1;39m,\n",
      "  \u001b[0m\u001b[34;1m\"base_exam_id\"\u001b[0m\u001b[1;39m: \u001b[0m\u001b[0;32m\"37f0a30a-7464-11e6-aa92-a8667f27e5dc\"\u001b[0m\u001b[1;39m,\n",
      "  \u001b[0m\u001b[34;1m\"user_exam_id\"\u001b[0m\u001b[1;39m: \u001b[0m\u001b[0;32m\"6d4089e4-bde5-4a22-b65f-18bce9ab79c8\"\u001b[0m\u001b[1;39m,\n",
      "  \u001b[0m\u001b[34;1m\"sequences\"\u001b[0m\u001b[1;39m: \u001b[0m\u001b[1;39m{\n",
      "    \u001b[0m\u001b[34;1m\"questions\"\u001b[0m\u001b[1;39m: \u001b[0m\u001b[1;39m[\n",
      "      \u001b[1;39m{\n",
      "        \u001b[0m\u001b[34;1m\"user_incomplete\"\u001b[0m\u001b[1;39m: \u001b[0m\u001b[0;39mtrue\u001b[0m\u001b[1;39m,\n",
      "        \u001b[0m\u001b[34;1m\"user_correct\"\u001b[0m\u001b[1;39m: \u001b[0m\u001b[0;39mfalse\u001b[0m\u001b[1;39m,\n",
      "        \u001b[0m\u001b[34;1m\"options\"\u001b[0m\u001b[1;39m: \u001b[0m\u001b[1;39m[\n",
      "          \u001b[1;39m{\n",
      "            \u001b[0m\u001b[34;1m\"checked\"\u001b[0m\u001b[1;39m: \u001b[0m\u001b[0;39mtrue\u001b[0m\u001b[1;39m,\n",
      "            \u001b[0m\u001b[34;1m\"at\"\u001b[0m\u001b[1;39m: \u001b[0m\u001b[0;32m\"2018-01-23T14:23:24.670Z\"\u001b[0m\u001b[1;39m,\n",
      "            \u001b[0m\u001b[34;1m\"id\"\u001b[0m\u001b[1;39m: \u001b[0m\u001b[0;32m\"49c574b4-5c82-4ffd-9bd1-c3358faf850d\"\u001b[0m\u001b[1;39m,\n",
      "            \u001b[0m\u001b[34;1m\"submitted\"\u001b[0m\u001b[1;39m: \u001b[0m\u001b[0;39m1\u001b[0m\u001b[1;39m,\n",
      "            \u001b[0m\u001b[34;1m\"correct\"\u001b[0m\u001b[1;39m: \u001b[0m\u001b[0;39mtrue\u001b[0m\u001b[1;39m\n",
      "          \u001b[1;39m}\u001b[0m\u001b[1;39m,\n",
      "          \u001b[1;39m{\n",
      "            \u001b[0m\u001b[34;1m\"checked\"\u001b[0m\u001b[1;39m: \u001b[0m\u001b[0;39mtrue\u001b[0m\u001b[1;39m,\n",
      "            \u001b[0m\u001b[34;1m\"at\"\u001b[0m\u001b[1;39m: \u001b[0m\u001b[0;32m\"2018-01-23T14:23:25.914Z\"\u001b[0m\u001b[1;39m,\n",
      "            \u001b[0m\u001b[34;1m\"id\"\u001b[0m\u001b[1;39m: \u001b[0m\u001b[0;32m\"f2528210-35c3-4320-acf3-9056567ea19f\"\u001b[0m\u001b[1;39m,\n",
      "            \u001b[0m\u001b[34;1m\"submitted\"\u001b[0m\u001b[1;39m: \u001b[0m\u001b[0;39m1\u001b[0m\u001b[1;39m,\n",
      "            \u001b[0m\u001b[34;1m\"correct\"\u001b[0m\u001b[1;39m: \u001b[0m\u001b[0;39mtrue\u001b[0m\u001b[1;39m\n",
      "          \u001b[1;39m}\u001b[0m\u001b[1;39m,\n",
      "          \u001b[1;39m{\n",
      "            \u001b[0m\u001b[34;1m\"checked\"\u001b[0m\u001b[1;39m: \u001b[0m\u001b[0;39mfalse\u001b[0m\u001b[1;39m,\n",
      "            \u001b[0m\u001b[34;1m\"correct\"\u001b[0m\u001b[1;39m: \u001b[0m\u001b[0;39mtrue\u001b[0m\u001b[1;39m,\n",
      "            \u001b[0m\u001b[34;1m\"id\"\u001b[0m\u001b[1;39m: \u001b[0m\u001b[0;32m\"d1bf026f-554f-4543-bdd2-54dcf105b826\"\u001b[0m\u001b[1;39m\n",
      "          \u001b[1;39m}\u001b[0m\u001b[1;39m\n",
      "        \u001b[1;39m]\u001b[0m\u001b[1;39m,\n",
      "        \u001b[0m\u001b[34;1m\"user_submitted\"\u001b[0m\u001b[1;39m: \u001b[0m\u001b[0;39mtrue\u001b[0m\u001b[1;39m,\n",
      "        \u001b[0m\u001b[34;1m\"id\"\u001b[0m\u001b[1;39m: \u001b[0m\u001b[0;32m\"7a2ed6d3-f492-49b3-b8aa-d080a8aad986\"\u001b[0m\u001b[1;39m,\n",
      "        \u001b[0m\u001b[34;1m\"user_result\"\u001b[0m\u001b[1;39m: \u001b[0m\u001b[0;32m\"missed_some\"\u001b[0m\u001b[1;39m\n",
      "      \u001b[1;39m}\u001b[0m\u001b[1;39m,\n",
      "      \u001b[1;39m{\n",
      "        \u001b[0m\u001b[34;1m\"user_incomplete\"\u001b[0m\u001b[1;39m: \u001b[0m\u001b[0;39mfalse\u001b[0m\u001b[1;39m,\n",
      "        \u001b[0m\u001b[34;1m\"user_correct\"\u001b[0m\u001b[1;39m: \u001b[0m\u001b[0;39mfalse\u001b[0m\u001b[1;39m,\n",
      "        \u001b[0m\u001b[34;1m\"options\"\u001b[0m\u001b[1;39m: \u001b[0m\u001b[1;39m[\n",
      "          \u001b[1;39m{\n",
      "            \u001b[0m\u001b[34;1m\"checked\"\u001b[0m\u001b[1;39m: \u001b[0m\u001b[0;39mtrue\u001b[0m\u001b[1;39m,\n",
      "            \u001b[0m\u001b[34;1m\"at\"\u001b[0m\u001b[1;39m: \u001b[0m\u001b[0;32m\"2018-01-23T14:23:30.116Z\"\u001b[0m\u001b[1;39m,\n",
      "            \u001b[0m\u001b[34;1m\"id\"\u001b[0m\u001b[1;39m: \u001b[0m\u001b[0;32m\"a35d0e80-8c49-415d-b8cb-c21a02627e2b\"\u001b[0m\u001b[1;39m,\n",
      "            \u001b[0m\u001b[34;1m\"submitted\"\u001b[0m\u001b[1;39m: \u001b[0m\u001b[0;39m1\u001b[0m\u001b[1;39m\n",
      "          \u001b[1;39m}\u001b[0m\u001b[1;39m,\n",
      "          \u001b[1;39m{\n",
      "            \u001b[0m\u001b[34;1m\"checked\"\u001b[0m\u001b[1;39m: \u001b[0m\u001b[0;39mfalse\u001b[0m\u001b[1;39m,\n",
      "            \u001b[0m\u001b[34;1m\"correct\"\u001b[0m\u001b[1;39m: \u001b[0m\u001b[0;39mtrue\u001b[0m\u001b[1;39m,\n",
      "            \u001b[0m\u001b[34;1m\"id\"\u001b[0m\u001b[1;39m: \u001b[0m\u001b[0;32m\"bccd6e2e-2cef-4c72-8bfa-317db0ac48bb\"\u001b[0m\u001b[1;39m\n",
      "          \u001b[1;39m}\u001b[0m\u001b[1;39m,\n",
      "          \u001b[1;39m{\n",
      "            \u001b[0m\u001b[34;1m\"checked\"\u001b[0m\u001b[1;39m: \u001b[0m\u001b[0;39mtrue\u001b[0m\u001b[1;39m,\n",
      "            \u001b[0m\u001b[34;1m\"at\"\u001b[0m\u001b[1;39m: \u001b[0m\u001b[0;32m\"2018-01-23T14:23:41.791Z\"\u001b[0m\u001b[1;39m,\n",
      "            \u001b[0m\u001b[34;1m\"id\"\u001b[0m\u001b[1;39m: \u001b[0m\u001b[0;32m\"7e0b639a-2ef8-4604-b7eb-5018bd81a91b\"\u001b[0m\u001b[1;39m,\n",
      "            \u001b[0m\u001b[34;1m\"submitted\"\u001b[0m\u001b[1;39m: \u001b[0m\u001b[0;39m1\u001b[0m\u001b[1;39m,\n",
      "            \u001b[0m\u001b[34;1m\"correct\"\u001b[0m\u001b[1;39m: \u001b[0m\u001b[0;39mtrue\u001b[0m\u001b[1;39m\n",
      "          \u001b[1;39m}\u001b[0m\u001b[1;39m\n",
      "        \u001b[1;39m]\u001b[0m\u001b[1;39m,\n",
      "        \u001b[0m\u001b[34;1m\"user_submitted\"\u001b[0m\u001b[1;39m: \u001b[0m\u001b[0;39mtrue\u001b[0m\u001b[1;39m,\n",
      "        \u001b[0m\u001b[34;1m\"id\"\u001b[0m\u001b[1;39m: \u001b[0m\u001b[0;32m\"bbed4358-999d-4462-9596-bad5173a6ecb\"\u001b[0m\u001b[1;39m,\n",
      "        \u001b[0m\u001b[34;1m\"user_result\"\u001b[0m\u001b[1;39m: \u001b[0m\u001b[0;32m\"incorrect\"\u001b[0m\u001b[1;39m\n",
      "      \u001b[1;39m}\u001b[0m\u001b[1;39m,\n",
      "      \u001b[1;39m{\n",
      "        \u001b[0m\u001b[34;1m\"user_incomplete\"\u001b[0m\u001b[1;39m: \u001b[0m\u001b[0;39mfalse\u001b[0m\u001b[1;39m,\n",
      "        \u001b[0m\u001b[34;1m\"user_correct\"\u001b[0m\u001b[1;39m: \u001b[0m\u001b[0;39mtrue\u001b[0m\u001b[1;39m,\n",
      "        \u001b[0m\u001b[34;1m\"options\"\u001b[0m\u001b[1;39m: \u001b[0m\u001b[1;39m[\n",
      "          \u001b[1;39m{\n",
      "            \u001b[0m\u001b[34;1m\"checked\"\u001b[0m\u001b[1;39m: \u001b[0m\u001b[0;39mfalse\u001b[0m\u001b[1;39m,\n",
      "            \u001b[0m\u001b[34;1m\"at\"\u001b[0m\u001b[1;39m: \u001b[0m\u001b[0;32m\"2018-01-23T14:23:52.510Z\"\u001b[0m\u001b[1;39m,\n",
      "            \u001b[0m\u001b[34;1m\"id\"\u001b[0m\u001b[1;39m: \u001b[0m\u001b[0;32m\"a9333679-de9d-41ff-bb3d-b239d6b95732\"\u001b[0m\u001b[1;39m\n",
      "          \u001b[1;39m}\u001b[0m\u001b[1;39m,\n",
      "          \u001b[1;39m{\n",
      "            \u001b[0m\u001b[34;1m\"checked\"\u001b[0m\u001b[1;39m: \u001b[0m\u001b[0;39mfalse\u001b[0m\u001b[1;39m,\n",
      "            \u001b[0m\u001b[34;1m\"id\"\u001b[0m\u001b[1;39m: \u001b[0m\u001b[0;32m\"85795acc-b4b1-4510-bd6e-41648a3553c9\"\u001b[0m\u001b[1;39m\n",
      "          \u001b[1;39m}\u001b[0m\u001b[1;39m,\n",
      "          \u001b[1;39m{\n",
      "            \u001b[0m\u001b[34;1m\"checked\"\u001b[0m\u001b[1;39m: \u001b[0m\u001b[0;39mtrue\u001b[0m\u001b[1;39m,\n",
      "            \u001b[0m\u001b[34;1m\"at\"\u001b[0m\u001b[1;39m: \u001b[0m\u001b[0;32m\"2018-01-23T14:23:54.223Z\"\u001b[0m\u001b[1;39m,\n",
      "            \u001b[0m\u001b[34;1m\"id\"\u001b[0m\u001b[1;39m: \u001b[0m\u001b[0;32m\"c185ecdb-48fb-4edb-ae4e-0204ac7a0909\"\u001b[0m\u001b[1;39m,\n",
      "            \u001b[0m\u001b[34;1m\"submitted\"\u001b[0m\u001b[1;39m: \u001b[0m\u001b[0;39m1\u001b[0m\u001b[1;39m,\n",
      "            \u001b[0m\u001b[34;1m\"correct\"\u001b[0m\u001b[1;39m: \u001b[0m\u001b[0;39mtrue\u001b[0m\u001b[1;39m\n",
      "          \u001b[1;39m}\u001b[0m\u001b[1;39m,\n",
      "          \u001b[1;39m{\n",
      "            \u001b[0m\u001b[34;1m\"checked\"\u001b[0m\u001b[1;39m: \u001b[0m\u001b[0;39mtrue\u001b[0m\u001b[1;39m,\n",
      "            \u001b[0m\u001b[34;1m\"at\"\u001b[0m\u001b[1;39m: \u001b[0m\u001b[0;32m\"2018-01-23T14:23:53.862Z\"\u001b[0m\u001b[1;39m,\n",
      "            \u001b[0m\u001b[34;1m\"id\"\u001b[0m\u001b[1;39m: \u001b[0m\u001b[0;32m\"77a66c83-d001-45cd-9a5a-6bba8eb7389e\"\u001b[0m\u001b[1;39m,\n",
      "            \u001b[0m\u001b[34;1m\"submitted\"\u001b[0m\u001b[1;39m: \u001b[0m\u001b[0;39m1\u001b[0m\u001b[1;39m,\n",
      "            \u001b[0m\u001b[34;1m\"correct\"\u001b[0m\u001b[1;39m: \u001b[0m\u001b[0;39mtrue\u001b[0m\u001b[1;39m\n",
      "          \u001b[1;39m}\u001b[0m\u001b[1;39m\n",
      "        \u001b[1;39m]\u001b[0m\u001b[1;39m,\n",
      "        \u001b[0m\u001b[34;1m\"user_submitted\"\u001b[0m\u001b[1;39m: \u001b[0m\u001b[0;39mtrue\u001b[0m\u001b[1;39m,\n",
      "        \u001b[0m\u001b[34;1m\"id\"\u001b[0m\u001b[1;39m: \u001b[0m\u001b[0;32m\"e6ad8644-96b1-4617-b37b-a263dded202c\"\u001b[0m\u001b[1;39m,\n",
      "        \u001b[0m\u001b[34;1m\"user_result\"\u001b[0m\u001b[1;39m: \u001b[0m\u001b[0;32m\"correct\"\u001b[0m\u001b[1;39m\n",
      "      \u001b[1;39m}\u001b[0m\u001b[1;39m,\n",
      "      \u001b[1;39m{\n",
      "        \u001b[0m\u001b[34;1m\"user_incomplete\"\u001b[0m\u001b[1;39m: \u001b[0m\u001b[0;39mfalse\u001b[0m\u001b[1;39m,\n",
      "        \u001b[0m\u001b[34;1m\"user_correct\"\u001b[0m\u001b[1;39m: \u001b[0m\u001b[0;39mtrue\u001b[0m\u001b[1;39m,\n",
      "        \u001b[0m\u001b[34;1m\"options\"\u001b[0m\u001b[1;39m: \u001b[0m\u001b[1;39m[\n",
      "          \u001b[1;39m{\n",
      "            \u001b[0m\u001b[34;1m\"checked\"\u001b[0m\u001b[1;39m: \u001b[0m\u001b[0;39mfalse\u001b[0m\u001b[1;39m,\n",
      "            \u001b[0m\u001b[34;1m\"id\"\u001b[0m\u001b[1;39m: \u001b[0m\u001b[0;32m\"59b9fc4b-f239-4850-b1f9-912d1fd3ca13\"\u001b[0m\u001b[1;39m\n",
      "          \u001b[1;39m}\u001b[0m\u001b[1;39m,\n",
      "          \u001b[1;39m{\n",
      "            \u001b[0m\u001b[34;1m\"checked\"\u001b[0m\u001b[1;39m: \u001b[0m\u001b[0;39mfalse\u001b[0m\u001b[1;39m,\n",
      "            \u001b[0m\u001b[34;1m\"id\"\u001b[0m\u001b[1;39m: \u001b[0m\u001b[0;32m\"2c29e8e8-d4a8-406e-9cdf-de28ec5890fe\"\u001b[0m\u001b[1;39m\n",
      "          \u001b[1;39m}\u001b[0m\u001b[1;39m,\n",
      "          \u001b[1;39m{\n",
      "            \u001b[0m\u001b[34;1m\"checked\"\u001b[0m\u001b[1;39m: \u001b[0m\u001b[0;39mfalse\u001b[0m\u001b[1;39m,\n",
      "            \u001b[0m\u001b[34;1m\"id\"\u001b[0m\u001b[1;39m: \u001b[0m\u001b[0;32m\"62feee6e-9b76-4123-bd9e-c0b35126b1f1\"\u001b[0m\u001b[1;39m\n",
      "          \u001b[1;39m}\u001b[0m\u001b[1;39m,\n",
      "          \u001b[1;39m{\n",
      "            \u001b[0m\u001b[34;1m\"checked\"\u001b[0m\u001b[1;39m: \u001b[0m\u001b[0;39mtrue\u001b[0m\u001b[1;39m,\n",
      "            \u001b[0m\u001b[34;1m\"at\"\u001b[0m\u001b[1;39m: \u001b[0m\u001b[0;32m\"2018-01-23T14:24:00.807Z\"\u001b[0m\u001b[1;39m,\n",
      "            \u001b[0m\u001b[34;1m\"id\"\u001b[0m\u001b[1;39m: \u001b[0m\u001b[0;32m\"7f13df9c-fcbe-4424-914f-2206f106765c\"\u001b[0m\u001b[1;39m,\n",
      "            \u001b[0m\u001b[34;1m\"submitted\"\u001b[0m\u001b[1;39m: \u001b[0m\u001b[0;39m1\u001b[0m\u001b[1;39m,\n",
      "            \u001b[0m\u001b[34;1m\"correct\"\u001b[0m\u001b[1;39m: \u001b[0m\u001b[0;39mtrue\u001b[0m\u001b[1;39m\n",
      "          \u001b[1;39m}\u001b[0m\u001b[1;39m\n",
      "        \u001b[1;39m]\u001b[0m\u001b[1;39m,\n",
      "        \u001b[0m\u001b[34;1m\"user_submitted\"\u001b[0m\u001b[1;39m: \u001b[0m\u001b[0;39mtrue\u001b[0m\u001b[1;39m,\n",
      "        \u001b[0m\u001b[34;1m\"id\"\u001b[0m\u001b[1;39m: \u001b[0m\u001b[0;32m\"95194331-ac43-454e-83de-ea8913067055\"\u001b[0m\u001b[1;39m,\n",
      "        \u001b[0m\u001b[34;1m\"user_result\"\u001b[0m\u001b[1;39m: \u001b[0m\u001b[0;32m\"correct\"\u001b[0m\u001b[1;39m\n",
      "      \u001b[1;39m}\u001b[0m\u001b[1;39m\n",
      "    \u001b[1;39m]\u001b[0m\u001b[1;39m,\n",
      "    \u001b[0m\u001b[34;1m\"attempt\"\u001b[0m\u001b[1;39m: \u001b[0m\u001b[0;39m1\u001b[0m\u001b[1;39m,\n",
      "    \u001b[0m\u001b[34;1m\"id\"\u001b[0m\u001b[1;39m: \u001b[0m\u001b[0;32m\"5b28a462-7a3b-42e0-b508-09f3906d1703\"\u001b[0m\u001b[1;39m,\n",
      "    \u001b[0m\u001b[34;1m\"counts\"\u001b[0m\u001b[1;39m: \u001b[0m\u001b[1;39m{\n",
      "      \u001b[0m\u001b[34;1m\"incomplete\"\u001b[0m\u001b[1;39m: \u001b[0m\u001b[0;39m1\u001b[0m\u001b[1;39m,\n",
      "      \u001b[0m\u001b[34;1m\"submitted\"\u001b[0m\u001b[1;39m: \u001b[0m\u001b[0;39m4\u001b[0m\u001b[1;39m,\n",
      "      \u001b[0m\u001b[34;1m\"incorrect\"\u001b[0m\u001b[1;39m: \u001b[0m\u001b[0;39m1\u001b[0m\u001b[1;39m,\n",
      "      \u001b[0m\u001b[34;1m\"all_correct\"\u001b[0m\u001b[1;39m: \u001b[0m\u001b[0;39mfalse\u001b[0m\u001b[1;39m,\n",
      "      \u001b[0m\u001b[34;1m\"correct\"\u001b[0m\u001b[1;39m: \u001b[0m\u001b[0;39m2\u001b[0m\u001b[1;39m,\n",
      "      \u001b[0m\u001b[34;1m\"total\"\u001b[0m\u001b[1;39m: \u001b[0m\u001b[0;39m4\u001b[0m\u001b[1;39m,\n",
      "      \u001b[0m\u001b[34;1m\"unanswered\"\u001b[0m\u001b[1;39m: \u001b[0m\u001b[0;39m0\u001b[0m\u001b[1;39m\n",
      "    \u001b[1;39m}\u001b[0m\u001b[1;39m\n",
      "  \u001b[1;39m}\u001b[0m\u001b[1;39m,\n",
      "  \u001b[0m\u001b[34;1m\"keen_created_at\"\u001b[0m\u001b[1;39m: \u001b[0m\u001b[0;32m\"1516717442.735266\"\u001b[0m\u001b[1;39m,\n",
      "  \u001b[0m\u001b[34;1m\"certification\"\u001b[0m\u001b[1;39m: \u001b[0m\u001b[0;32m\"false\"\u001b[0m\u001b[1;39m,\n",
      "  \u001b[0m\u001b[34;1m\"keen_id\"\u001b[0m\u001b[1;39m: \u001b[0m\u001b[0;32m\"5a6745820eb8ab00016be1f1\"\u001b[0m\u001b[1;39m,\n",
      "  \u001b[0m\u001b[34;1m\"exam_name\"\u001b[0m\u001b[1;39m: \u001b[0m\u001b[0;32m\"Normal Forms and All That Jazz Master Class\"\u001b[0m\u001b[1;39m\n",
      "\u001b[1;39m}\u001b[0m\n"
     ]
    }
   ],
   "source": [
    "! cat assessment-attempts-20180128-121051-nested.json | jq '.[0]'"
   ]
  },
  {
   "cell_type": "markdown",
   "metadata": {},
   "source": [
    "## Launch docker container (using docker-compose file from course 7)"
   ]
  },
  {
   "cell_type": "code",
   "execution_count": 13,
   "metadata": {},
   "outputs": [
    {
     "name": "stdout",
     "output_type": "stream",
     "text": [
      "Creating network \"project-2-ocychang_default\" with the default driver\n",
      "Creating project-2-ocychang_mids_1 ... \n",
      "Creating project-2-ocychang_cloudera_1 ... \n",
      "Creating project-2-ocychang_zookeeper_1 ... \n",
      "\u001b[1BCreating project-2-ocychang_kafka_1     ... mdone\u001b[0m\n",
      "\u001b[3BCreating project-2-ocychang_spark_1     ... mdone\u001b[0m\u001b[3A\u001b[2K\n",
      "\u001b[1Bting project-2-ocychang_spark_1     ... \u001b[32mdone\u001b[0m\u001b[1A\u001b[2K"
     ]
    }
   ],
   "source": [
    "! docker-compose up -d"
   ]
  },
  {
   "cell_type": "markdown",
   "metadata": {},
   "source": [
    "## Create kafka topic to retrieve the json data"
   ]
  },
  {
   "cell_type": "code",
   "execution_count": 15,
   "metadata": {},
   "outputs": [
    {
     "name": "stdout",
     "output_type": "stream",
     "text": [
      "Created topic assessments.\n"
     ]
    }
   ],
   "source": [
    "! docker-compose exec kafka \\\n",
    "   kafka-topics \\\n",
    "    --create \\\n",
    "    --topic assessments \\\n",
    "    --partitions 1 \\\n",
    "    --replication-factor 1 \\\n",
    "    --if-not-exists \\\n",
    "    --zookeeper zookeeper:32181"
   ]
  },
  {
   "cell_type": "code",
   "execution_count": 16,
   "metadata": {},
   "outputs": [
    {
     "name": "stdout",
     "output_type": "stream",
     "text": [
      "Topic: assessments\tPartitionCount: 1\tReplicationFactor: 1\tConfigs: \n",
      "\tTopic: assessments\tPartition: 0\tLeader: 1\tReplicas: 1\tIsr: 1\n"
     ]
    }
   ],
   "source": [
    "! docker-compose exec kafka \\\n",
    "  kafka-topics \\\n",
    "    --describe \\\n",
    "    --topic assessments \\\n",
    "    --zookeeper zookeeper:32181"
   ]
  },
  {
   "cell_type": "markdown",
   "metadata": {},
   "source": [
    "## Publish json data into kafka topic: assessments"
   ]
  },
  {
   "cell_type": "code",
   "execution_count": 17,
   "metadata": {},
   "outputs": [
    {
     "name": "stdout",
     "output_type": "stream",
     "text": [
      "Json messages published.\n"
     ]
    }
   ],
   "source": [
    "! docker-compose exec mids \\\n",
    "  bash -c \"cat ~/project-2-ocychang/assessment-attempts-20180128-121051-nested.json \\\n",
    "    | jq '.[]' -c \\\n",
    "    | kafkacat -P -b kafka:29092 -t assessments && echo 'Json messages published.'\""
   ]
  },
  {
   "cell_type": "markdown",
   "metadata": {},
   "source": [
    "## Start Spark"
   ]
  },
  {
   "cell_type": "code",
   "execution_count": 18,
   "metadata": {},
   "outputs": [
    {
     "name": "stdout",
     "output_type": "stream",
     "text": [
      "\u001b[32m[I 05:40:38.299 NotebookApp]\u001b(B\u001b[m Writing notebook server cookie secret to /root/.local/share/jupyter/runtime/notebook_cookie_secret\n",
      "\u001b[32m[I 05:40:38.327 NotebookApp]\u001b(B\u001b[m Serving notebooks from local directory: /w205\n",
      "\u001b[32m[I 05:40:38.327 NotebookApp]\u001b(B\u001b[m 0 active kernels \n",
      "\u001b[32m[I 05:40:38.327 NotebookApp]\u001b(B\u001b[m The Jupyter Notebook is running at: http://0.0.0.0:8888/?token=39ccc4100281bbe0b8ac45e32f0119a1075d7dcad6f398cf\n",
      "\u001b[32m[I 05:40:38.327 NotebookApp]\u001b(B\u001b[m Use Control-C to stop this server and shut down all kernels (twice to skip confirmation).\n",
      "[C 05:40:38.328 NotebookApp] \n",
      "    \n",
      "    Copy/paste this URL into your browser when you connect for the first time,\n",
      "    to login with a token:\n",
      "        http://0.0.0.0:8888/?token=39ccc4100281bbe0b8ac45e32f0119a1075d7dcad6f398cf\n",
      "\u001b[32m[I 05:40:54.228 NotebookApp]\u001b(B\u001b[m 302 GET /?token=39ccc4100281bbe0b8ac45e32f0119a1075d7dcad6f398cf (73.34.84.102) 0.72ms\n",
      "\u001b[32m[I 05:40:59.145 NotebookApp]\u001b(B\u001b[m Writing notebook-signing key to /root/.local/share/jupyter/notebook_secret\n",
      "\u001b[33m[W 05:40:59.147 NotebookApp]\u001b(B\u001b[m Notebook project-2-ocychang/project2_2.ipynb is not trusted\n",
      "\u001b[32m[I 05:41:00.328 NotebookApp]\u001b(B\u001b[m Kernel started: 9cfcb0a8-cf06-4b67-a322-cdca4abcbb71\n",
      "Using Spark's default log4j profile: org/apache/spark/log4j-defaults.properties\n",
      "Setting default log level to \"WARN\".\n",
      "To adjust logging level use sc.setLogLevel(newLevel). For SparkR, use setLogLevel(newLevel).\n",
      "\u001b[33m[W 05:41:10.497 NotebookApp]\u001b(B\u001b[m Timeout waiting for kernel_info reply from 9cfcb0a8-cf06-4b67-a322-cdca4abcbb71\n",
      "21/03/08 05:41:11 WARN NativeCodeLoader: Unable to load native-hadoop library for your platform... using builtin-java classes where applicable\n",
      "21/03/08 05:41:21 WARN ObjectStore: Failed to get database global_temp, returning NoSuchObjectException\n",
      "\u001b[32m[I 05:41:28.803 NotebookApp]\u001b(B\u001b[m Saving file at /project-2-ocychang/project2_2.ipynb\n",
      "\u001b[33m[W 05:41:28.805 NotebookApp]\u001b(B\u001b[m Saving untrusted notebook project-2-ocychang/project2_2.ipynb\n",
      "\u001b[32m[I 05:42:25.625 NotebookApp]\u001b(B\u001b[m Saving file at /project-2-ocychang/project2_2.ipynb\n",
      "\u001b[32m[I 05:42:31.351 NotebookApp]\u001b(B\u001b[m Saving file at /project-2-ocychang/project2_2.ipynb\n",
      "\u001b[32m[I 05:43:39.129 NotebookApp]\u001b(B\u001b[m Saving file at /project-2-ocychang/project2_2.ipynb\n",
      "\u001b[32m[I 05:43:43.695 NotebookApp]\u001b(B\u001b[m Saving file at /project-2-ocychang/project2_2.ipynb\n",
      "\u001b[32m[I 05:45:34.980 NotebookApp]\u001b(B\u001b[m Saving file at /project-2-ocychang/project2_2.ipynb\n",
      "\u001b[32m[I 05:45:39.969 NotebookApp]\u001b(B\u001b[m Saving file at /project-2-ocychang/project2_2.ipynb\n",
      "\u001b[32m[I 05:45:43.774 NotebookApp]\u001b(B\u001b[m Saving file at /project-2-ocychang/project2_2.ipynb\n",
      "\u001b[32m[I 05:45:48.522 NotebookApp]\u001b(B\u001b[m Saving file at /project-2-ocychang/project2_2.ipynb\n",
      "\u001b[32m[I 05:45:59.042 NotebookApp]\u001b(B\u001b[m Saving file at /project-2-ocychang/project2_2.ipynb\n",
      "\u001b[32m[I 05:45:59.437 NotebookApp]\u001b(B\u001b[m Saving file at /project-2-ocychang/project2_2.ipynb\n",
      "\u001b[32m[I 05:45:59.856 NotebookApp]\u001b(B\u001b[m Saving file at /project-2-ocychang/project2_2.ipynb\n",
      "\u001b[32m[I 05:47:01.338 NotebookApp]\u001b(B\u001b[m Saving file at /project-2-ocychang/project2_2.ipynb\n",
      "\u001b[32m[I 05:48:47.189 NotebookApp]\u001b(B\u001b[m Saving file at /project-2-ocychang/project2_2.ipynb\n",
      "\u001b[32m[I 05:48:49.266 NotebookApp]\u001b(B\u001b[m Saving file at /project-2-ocychang/project2_2.ipynb\n",
      "\u001b[32m[I 05:48:49.643 NotebookApp]\u001b(B\u001b[m Saving file at /project-2-ocychang/project2_2.ipynb\n",
      "\u001b[32m[I 05:48:50.193 NotebookApp]\u001b(B\u001b[m Saving file at /project-2-ocychang/project2_2.ipynb\n",
      "\u001b[32m[I 05:49:09.942 NotebookApp]\u001b(B\u001b[m Saving file at /project-2-ocychang/project2_2.ipynb\n",
      "\u001b[32m[I 05:49:10.295 NotebookApp]\u001b(B\u001b[m Saving file at /project-2-ocychang/project2_2.ipynb\n",
      "\u001b[32m[I 05:49:11.334 NotebookApp]\u001b(B\u001b[m Saving file at /project-2-ocychang/project2_2.ipynb\n",
      "\u001b[32m[I 05:51:02.761 NotebookApp]\u001b(B\u001b[m Saving file at /project-2-ocychang/project2_2.ipynb\n",
      "\u001b[32m[I 05:53:49.132 NotebookApp]\u001b(B\u001b[m Saving file at /project-2-ocychang/project2_2.ipynb\n",
      "^C\n",
      "\u001b[32m[I 05:53:54.362 NotebookApp]\u001b(B\u001b[m interrupted\n",
      "Serving notebooks from local directory: /w205\n",
      "1 active kernels \n",
      "The Jupyter Notebook is running at: http://0.0.0.0:8888/?token=39ccc4100281bbe0b8ac45e32f0119a1075d7dcad6f398cf\n",
      "Shutdown this notebook server (y/[n])? resuming operation...\n"
     ]
    }
   ],
   "source": [
    "! docker-compose exec spark env PYSPARK_DRIVER_PYTHON=jupyter PYSPARK_DRIVER_PYTHON_OPTS='notebook --no-browser --port 8888 --ip 0.0.0.0 --allow-root --notebook-dir=/w205/' pyspark"
   ]
  },
  {
   "cell_type": "code",
   "execution_count": 8,
   "metadata": {},
   "outputs": [
    {
     "name": "stdout",
     "output_type": "stream",
     "text": [
      "IP is: 35.230.20.101\n"
     ]
    }
   ],
   "source": [
    "from requests import get\n",
    "ip = get('https://api.ipify.org').text\n",
    "print ('IP is:', ip)"
   ]
  },
  {
   "cell_type": "code",
   "execution_count": 23,
   "metadata": {},
   "outputs": [],
   "source": [
    "# http://35.230.20.101:8888/?token=39ccc4100281bbe0b8ac45e32f0119a1075d7dcad6f398cf"
   ]
  },
  {
   "cell_type": "code",
   "execution_count": 22,
   "metadata": {},
   "outputs": [],
   "source": [
    "#! docker-compose down"
   ]
  },
  {
   "cell_type": "code",
   "execution_count": null,
   "metadata": {},
   "outputs": [],
   "source": []
  }
 ],
 "metadata": {
  "environment": {
   "name": "common-cpu.m59",
   "type": "gcloud",
   "uri": "gcr.io/deeplearning-platform-release/base-cpu:m59"
  },
  "kernelspec": {
   "display_name": "Python 3",
   "language": "python",
   "name": "python3"
  },
  "language_info": {
   "codemirror_mode": {
    "name": "ipython",
    "version": 3
   },
   "file_extension": ".py",
   "mimetype": "text/x-python",
   "name": "python",
   "nbconvert_exporter": "python",
   "pygments_lexer": "ipython3",
   "version": "3.7.8"
  }
 },
 "nbformat": 4,
 "nbformat_minor": 4
}
